{
 "cells": [
  {
   "cell_type": "code",
   "execution_count": 45,
   "metadata": {},
   "outputs": [],
   "source": [
    "import pandas as pd\n",
    "import matplotlib.pyplot as plt\n",
    "import seaborn as sns\n",
    "import numpy as np\n",
    "# to divide train and test set\n",
    "from sklearn.model_selection import train_test_split\n",
    "from sklearn import linear_model\n",
    "from sklearn import metrics\n",
    "from statsmodels.formula.api import ols\n",
    "import statsmodels.api as sm\n",
    "\n",
    "\n",
    "\n",
    "# feature scaling\n",
    "from sklearn.preprocessing import MinMaxScaler\n",
    "\n",
    "from sklearn.linear_model import LinearRegression\n",
    "from sklearn.preprocessing import MinMaxScaler\n",
    "from sklearn.preprocessing import StandardScaler\n",
    "from sklearn.linear_model import Lasso, Ridge, LinearRegression\n",
    "from sklearn.model_selection import train_test_split\n"
   ]
  },
  {
   "cell_type": "code",
   "execution_count": 2,
   "metadata": {},
   "outputs": [],
   "source": [
    "df = pd.read_csv('/Users/flatironschool/Documents/nyc-ds-010620/Projects/baseball_HR_linear_regression/Loading_Dataset/cleaned_data.csv', index_col=0)"
   ]
  },
  {
   "cell_type": "code",
   "execution_count": 3,
   "metadata": {},
   "outputs": [
    {
     "data": {
      "text/plain": [
       "(854, 55)"
      ]
     },
     "execution_count": 3,
     "metadata": {},
     "output_type": "execute_result"
    }
   ],
   "source": [
    "df.shape"
   ]
  },
  {
   "cell_type": "code",
   "execution_count": 4,
   "metadata": {},
   "outputs": [],
   "source": [
    "X = df[['avg_hit_angle', 'avg_hit_speed', 'brl_pa', 'est_slg', \n",
    "                                                        'Age', 'AS__2', 'AS__3']]\n",
    "Y = df.HR_per_PA"
   ]
  },
  {
   "cell_type": "code",
   "execution_count": 5,
   "metadata": {},
   "outputs": [
    {
     "data": {
      "text/plain": [
       "((683, 7), (171, 7))"
      ]
     },
     "execution_count": 5,
     "metadata": {},
     "output_type": "execute_result"
    }
   ],
   "source": [
    "# Let's separate into train and test set\n",
    "# Remember to set the seed (random_state for this sklearn function)\n",
    "X_train, X_test, y_train, y_test = train_test_split(df[['avg_hit_angle', 'avg_hit_speed', 'brl_pa', 'est_slg', \n",
    "                                                        'Age', 'AS__2', 'AS__3']], Y,\n",
    "                                                    test_size=0.2,\n",
    "                                                    random_state=0) # we are setting the seed here\n",
    "X_train.shape, X_test.shape"
   ]
  },
  {
   "cell_type": "code",
   "execution_count": 6,
   "metadata": {},
   "outputs": [],
   "source": [
    "#Scaling our X training and test sets\n",
    "\n",
    "scale = StandardScaler()\n",
    "X_train_transformed = scale.fit_transform(X_train)\n",
    "X_test_transformed = scale.transform(X_test)"
   ]
  },
  {
   "cell_type": "code",
   "execution_count": 7,
   "metadata": {},
   "outputs": [
    {
     "data": {
      "text/plain": [
       "array([0.        , 0.05263158, 0.10526316, 0.15789474, 0.21052632,\n",
       "       0.26315789, 0.31578947, 0.36842105, 0.42105263, 0.47368421,\n",
       "       0.52631579, 0.57894737, 0.63157895, 0.68421053, 0.73684211,\n",
       "       0.78947368, 0.84210526, 0.89473684, 0.94736842, 1.        ])"
      ]
     },
     "execution_count": 7,
     "metadata": {},
     "output_type": "execute_result"
    }
   ],
   "source": [
    "#Create a list of alpha variables\n",
    "\n",
    "alpha_list = np.linspace(0, 1 , 20)\n",
    "\n",
    "alpha_list"
   ]
  },
  {
   "cell_type": "code",
   "execution_count": 8,
   "metadata": {},
   "outputs": [],
   "source": [
    "#create a function that returns the alpha with the smallest sum mean squared\n",
    "\n",
    "def best_alpha_variable(X_train_transformed, y_train, alpha_list):\n",
    "    \n",
    "    sum_mean_squared_min = 1000000000\n",
    "    min_a = 0\n",
    "    for a in alpha_list:\n",
    "        ridge = Ridge(alpha=a)\n",
    "        ridge.fit(X_train_transformed, y_train)\n",
    "\n",
    "        # Generate preditions for training and test sets\n",
    "        y_h_ridge_train = ridge.predict(X_train_transformed)\n",
    "        y_h_ridge_test = ridge.predict(X_test_transformed)\n",
    "        \n",
    "        sum_mean_squared = np.sum((y_test - y_h_ridge_test)**2)\n",
    "        \n",
    "        if sum_mean_squared < sum_mean_squared_min:\n",
    "            sum_mean_squared_min = sum_mean_squared\n",
    "            min_a = a\n",
    "    \n",
    "        \n",
    "    return min_a , sum_mean_squared_min\n",
    "\n",
    "\n",
    "#         print('Train Error Ridge Model with alpha: {}'.format(a), np.sum((y_train - y_h_ridge_train)**2))\n",
    "#         print('Test Error Ridge Model with alpha: {}'.format(a), np.sum((y_test - y_h_ridge_test)**2))\n",
    "#         print('\\n')\n",
    "    "
   ]
  },
  {
   "cell_type": "code",
   "execution_count": null,
   "metadata": {},
   "outputs": [],
   "source": []
  },
  {
   "cell_type": "code",
   "execution_count": 9,
   "metadata": {},
   "outputs": [
    {
     "data": {
      "text/plain": [
       "(0.0, 24.264409911814276)"
      ]
     },
     "execution_count": 9,
     "metadata": {},
     "output_type": "execute_result"
    }
   ],
   "source": [
    "best_alpha_variable(X_train_transformed, y_train, alpha_list)"
   ]
  },
  {
   "cell_type": "code",
   "execution_count": null,
   "metadata": {},
   "outputs": [],
   "source": []
  },
  {
   "cell_type": "code",
   "execution_count": 10,
   "metadata": {},
   "outputs": [
    {
     "name": "stderr",
     "output_type": "stream",
     "text": [
      "/Users/flatironschool/opt/anaconda3/lib/python3.7/site-packages/ipykernel_launcher.py:9: UserWarning: With alpha=0, this algorithm does not converge well. You are advised to use the LinearRegression estimator\n",
      "  if __name__ == '__main__':\n",
      "/Users/flatironschool/opt/anaconda3/lib/python3.7/site-packages/sklearn/linear_model/coordinate_descent.py:475: UserWarning: Coordinate descent with no regularization may lead to unexpected results and is discouraged.\n",
      "  positive)\n",
      "/Users/flatironschool/opt/anaconda3/lib/python3.7/site-packages/sklearn/linear_model/coordinate_descent.py:475: ConvergenceWarning: Objective did not converge. You might want to increase the number of iterations. Duality gap: 56.63956253976896, tolerance: 0.022943288375084827\n",
      "  positive)\n"
     ]
    },
    {
     "data": {
      "text/plain": [
       "(0.0, 24.264409911814283)"
      ]
     },
     "execution_count": 10,
     "metadata": {},
     "output_type": "execute_result"
    }
   ],
   "source": [
    "\n",
    "\n",
    "#testing alphas on lasso\n",
    "\n",
    "def best_alpha_variable(X_train_transformed, y_train, alpha_list):\n",
    "    sum_mean_squared_min = 1000000000\n",
    "    min_a = 0\n",
    "    \n",
    "    for a in alpha_list:\n",
    "        lasso = Lasso(alpha=a)\n",
    "        lasso.fit(X_train_transformed, y_train)\n",
    "\n",
    "        # Generate preditions for training and test sets\n",
    "        y_h_lasso_train = lasso.predict(X_train_transformed)\n",
    "        y_h_lasso_test = lasso.predict(X_test_transformed)\n",
    "        \n",
    "        sum_mean_squared = np.sum((y_test - y_h_lasso_test)**2)\n",
    "        \n",
    "        if sum_mean_squared < sum_mean_squared_min:\n",
    "            sum_mean_squared_min = sum_mean_squared\n",
    "            min_a = a\n",
    "    \n",
    "        \n",
    "    return min_a , sum_mean_squared_min\n",
    "\n",
    "\n",
    "#         print('Train Error Lasso Model with alpha: {}'.format(a), np.sum((y_train - y_h_lasso_train)**2))\n",
    "#         print('Test Error Lasso Model with alpha: {}'.format(a), np.sum((y_test - y_h_lasso_test)**2))\n",
    "#         print('\\n')\n",
    "    \n",
    "best_alpha_variable(X_train_transformed, y_train, alpha_list)"
   ]
  },
  {
   "cell_type": "code",
   "execution_count": 11,
   "metadata": {},
   "outputs": [],
   "source": [
    "#An alpha of 0 resulted in the smallest mean squared errors, \n",
    "#so we decided to use a basic linear regression model as our final model"
   ]
  },
  {
   "cell_type": "code",
   "execution_count": 12,
   "metadata": {},
   "outputs": [],
   "source": [
    "lin = LinearRegression()\n",
    "lin.fit(X_train_transformed, y_train)\n",
    "\n",
    "y_lin_predictions = lin.predict(X_test_transformed)"
   ]
  },
  {
   "cell_type": "code",
   "execution_count": 13,
   "metadata": {},
   "outputs": [
    {
     "name": "stdout",
     "output_type": "stream",
     "text": [
      "0.6723894359839488\n"
     ]
    }
   ],
   "source": [
    "print(np.sqrt(metrics.mean_squared_error(y_test, y_lin_predictions))/y_test.std())\n"
   ]
  },
  {
   "cell_type": "markdown",
   "metadata": {},
   "source": [
    "## Model Summary"
   ]
  },
  {
   "cell_type": "code",
   "execution_count": 14,
   "metadata": {},
   "outputs": [],
   "source": [
    "lr_model = ols(formula='HR_per_PA~avg_hit_angle+avg_hit_speed+brl_pa+est_slg+Age+AS__2+AS__3', data=df).fit()"
   ]
  },
  {
   "cell_type": "code",
   "execution_count": 43,
   "metadata": {},
   "outputs": [
    {
     "data": {
      "text/html": [
       "<table class=\"simpletable\">\n",
       "<caption>OLS Regression Results</caption>\n",
       "<tr>\n",
       "  <th>Dep. Variable:</th>        <td>HR_per_PA</td>    <th>  R-squared:         </th> <td>   0.514</td> \n",
       "</tr>\n",
       "<tr>\n",
       "  <th>Model:</th>                   <td>OLS</td>       <th>  Adj. R-squared:    </th> <td>   0.510</td> \n",
       "</tr>\n",
       "<tr>\n",
       "  <th>Method:</th>             <td>Least Squares</td>  <th>  F-statistic:       </th> <td>   127.9</td> \n",
       "</tr>\n",
       "<tr>\n",
       "  <th>Date:</th>             <td>Tue, 25 Feb 2020</td> <th>  Prob (F-statistic):</th> <td>5.57e-128</td>\n",
       "</tr>\n",
       "<tr>\n",
       "  <th>Time:</th>                 <td>22:39:31</td>     <th>  Log-Likelihood:    </th> <td> -431.67</td> \n",
       "</tr>\n",
       "<tr>\n",
       "  <th>No. Observations:</th>      <td>   854</td>      <th>  AIC:               </th> <td>   879.3</td> \n",
       "</tr>\n",
       "<tr>\n",
       "  <th>Df Residuals:</th>          <td>   846</td>      <th>  BIC:               </th> <td>   917.3</td> \n",
       "</tr>\n",
       "<tr>\n",
       "  <th>Df Model:</th>              <td>     7</td>      <th>                     </th>     <td> </td>    \n",
       "</tr>\n",
       "<tr>\n",
       "  <th>Covariance Type:</th>      <td>nonrobust</td>    <th>                     </th>     <td> </td>    \n",
       "</tr>\n",
       "</table>\n",
       "<table class=\"simpletable\">\n",
       "<tr>\n",
       "        <td></td>           <th>coef</th>     <th>std err</th>      <th>t</th>      <th>P>|t|</th>  <th>[0.025</th>    <th>0.975]</th>  \n",
       "</tr>\n",
       "<tr>\n",
       "  <th>Intercept</th>     <td>  -11.2801</td> <td>    0.752</td> <td>  -15.002</td> <td> 0.000</td> <td>  -12.756</td> <td>   -9.804</td>\n",
       "</tr>\n",
       "<tr>\n",
       "  <th>avg_hit_angle</th> <td>    0.0426</td> <td>    0.004</td> <td>   10.709</td> <td> 0.000</td> <td>    0.035</td> <td>    0.050</td>\n",
       "</tr>\n",
       "<tr>\n",
       "  <th>avg_hit_speed</th> <td>    0.0913</td> <td>    0.009</td> <td>   10.001</td> <td> 0.000</td> <td>    0.073</td> <td>    0.109</td>\n",
       "</tr>\n",
       "<tr>\n",
       "  <th>brl_pa</th>        <td>    0.0882</td> <td>    0.014</td> <td>    6.161</td> <td> 0.000</td> <td>    0.060</td> <td>    0.116</td>\n",
       "</tr>\n",
       "<tr>\n",
       "  <th>est_slg</th>       <td>   -1.3726</td> <td>    0.484</td> <td>   -2.839</td> <td> 0.005</td> <td>   -2.322</td> <td>   -0.424</td>\n",
       "</tr>\n",
       "<tr>\n",
       "  <th>Age</th>           <td>   -0.0153</td> <td>    0.004</td> <td>   -4.039</td> <td> 0.000</td> <td>   -0.023</td> <td>   -0.008</td>\n",
       "</tr>\n",
       "<tr>\n",
       "  <th>AS__2</th>         <td>   -0.1282</td> <td>    0.061</td> <td>   -2.113</td> <td> 0.035</td> <td>   -0.247</td> <td>   -0.009</td>\n",
       "</tr>\n",
       "<tr>\n",
       "  <th>AS__3</th>         <td>   -0.2190</td> <td>    0.069</td> <td>   -3.176</td> <td> 0.002</td> <td>   -0.354</td> <td>   -0.084</td>\n",
       "</tr>\n",
       "</table>\n",
       "<table class=\"simpletable\">\n",
       "<tr>\n",
       "  <th>Omnibus:</th>       <td>151.043</td> <th>  Durbin-Watson:     </th> <td>   2.123</td>\n",
       "</tr>\n",
       "<tr>\n",
       "  <th>Prob(Omnibus):</th> <td> 0.000</td>  <th>  Jarque-Bera (JB):  </th> <td> 366.944</td>\n",
       "</tr>\n",
       "<tr>\n",
       "  <th>Skew:</th>          <td>-0.941</td>  <th>  Prob(JB):          </th> <td>2.09e-80</td>\n",
       "</tr>\n",
       "<tr>\n",
       "  <th>Kurtosis:</th>      <td> 5.602</td>  <th>  Cond. No.          </th> <td>5.10e+03</td>\n",
       "</tr>\n",
       "</table><br/><br/>Warnings:<br/>[1] Standard Errors assume that the covariance matrix of the errors is correctly specified.<br/>[2] The condition number is large, 5.1e+03. This might indicate that there are<br/>strong multicollinearity or other numerical problems."
      ],
      "text/plain": [
       "<class 'statsmodels.iolib.summary.Summary'>\n",
       "\"\"\"\n",
       "                            OLS Regression Results                            \n",
       "==============================================================================\n",
       "Dep. Variable:              HR_per_PA   R-squared:                       0.514\n",
       "Model:                            OLS   Adj. R-squared:                  0.510\n",
       "Method:                 Least Squares   F-statistic:                     127.9\n",
       "Date:                Tue, 25 Feb 2020   Prob (F-statistic):          5.57e-128\n",
       "Time:                        22:39:31   Log-Likelihood:                -431.67\n",
       "No. Observations:                 854   AIC:                             879.3\n",
       "Df Residuals:                     846   BIC:                             917.3\n",
       "Df Model:                           7                                         \n",
       "Covariance Type:            nonrobust                                         \n",
       "=================================================================================\n",
       "                    coef    std err          t      P>|t|      [0.025      0.975]\n",
       "---------------------------------------------------------------------------------\n",
       "Intercept       -11.2801      0.752    -15.002      0.000     -12.756      -9.804\n",
       "avg_hit_angle     0.0426      0.004     10.709      0.000       0.035       0.050\n",
       "avg_hit_speed     0.0913      0.009     10.001      0.000       0.073       0.109\n",
       "brl_pa            0.0882      0.014      6.161      0.000       0.060       0.116\n",
       "est_slg          -1.3726      0.484     -2.839      0.005      -2.322      -0.424\n",
       "Age              -0.0153      0.004     -4.039      0.000      -0.023      -0.008\n",
       "AS__2            -0.1282      0.061     -2.113      0.035      -0.247      -0.009\n",
       "AS__3            -0.2190      0.069     -3.176      0.002      -0.354      -0.084\n",
       "==============================================================================\n",
       "Omnibus:                      151.043   Durbin-Watson:                   2.123\n",
       "Prob(Omnibus):                  0.000   Jarque-Bera (JB):              366.944\n",
       "Skew:                          -0.941   Prob(JB):                     2.09e-80\n",
       "Kurtosis:                       5.602   Cond. No.                     5.10e+03\n",
       "==============================================================================\n",
       "\n",
       "Warnings:\n",
       "[1] Standard Errors assume that the covariance matrix of the errors is correctly specified.\n",
       "[2] The condition number is large, 5.1e+03. This might indicate that there are\n",
       "strong multicollinearity or other numerical problems.\n",
       "\"\"\""
      ]
     },
     "execution_count": 43,
     "metadata": {},
     "output_type": "execute_result"
    }
   ],
   "source": [
    "lr_model.summary()"
   ]
  },
  {
   "cell_type": "markdown",
   "metadata": {},
   "source": [
    "## Polynomial Features"
   ]
  },
  {
   "cell_type": "code",
   "execution_count": 16,
   "metadata": {},
   "outputs": [],
   "source": [
    "from sklearn.preprocessing import PolynomialFeatures"
   ]
  },
  {
   "cell_type": "code",
   "execution_count": 17,
   "metadata": {},
   "outputs": [
    {
     "data": {
      "text/plain": [
       "array([[-1.3342716 , -0.93939212, -1.20482422, ..., -0.25463001,\n",
       "        -0.15913683,  0.87804276],\n",
       "       [ 1.27942105, -0.36333444,  0.72971697, ..., -0.49396249,\n",
       "         0.43372019, -0.62497279],\n",
       "       [ 1.25649392,  1.48827954,  2.11753999, ..., -0.25463001,\n",
       "         0.28999727, -1.60006966],\n",
       "       ...,\n",
       "       [ 0.22477314, -0.48677537, -0.57399557, ..., -0.57083418,\n",
       "         0.65012116, -1.60006966],\n",
       "       [ 0.91258699,  0.58304604,  1.78109805, ...,  0.37777834,\n",
       "        -0.4302505 , -1.60006966],\n",
       "       [-1.40305299,  1.2002507 , -0.23755363, ...,  0.18124041,\n",
       "        -0.15913683, -0.62497279]])"
      ]
     },
     "execution_count": 17,
     "metadata": {},
     "output_type": "execute_result"
    }
   ],
   "source": [
    "#test polynomial features\n",
    "\n",
    "poly = PolynomialFeatures(interaction_only=True,include_bias = False)\n",
    "poly.fit_transform(X_train_transformed)"
   ]
  },
  {
   "cell_type": "code",
   "execution_count": 18,
   "metadata": {},
   "outputs": [
    {
     "data": {
      "text/plain": [
       "LinearRegression(copy_X=True, fit_intercept=True, n_jobs=None, normalize=False)"
      ]
     },
     "execution_count": 18,
     "metadata": {},
     "output_type": "execute_result"
    }
   ],
   "source": [
    "\n",
    "poly_lr_model = linear_model.LinearRegression()\n",
    "poly_lr_model.fit(X_train_transformed, y_train)"
   ]
  },
  {
   "cell_type": "code",
   "execution_count": 19,
   "metadata": {},
   "outputs": [],
   "source": [
    "poly_predictions = poly_lr_model.predict(X_test_transformed)"
   ]
  },
  {
   "cell_type": "code",
   "execution_count": 20,
   "metadata": {},
   "outputs": [
    {
     "name": "stdout",
     "output_type": "stream",
     "text": [
      "0.6723894359839488\n"
     ]
    }
   ],
   "source": [
    "\n",
    "\n",
    "print(np.sqrt(metrics.mean_squared_error(y_test, poly_predictions))/y_test.std())"
   ]
  },
  {
   "cell_type": "markdown",
   "metadata": {},
   "source": [
    "## Make Predictions for 2020"
   ]
  },
  {
   "cell_type": "code",
   "execution_count": 21,
   "metadata": {},
   "outputs": [],
   "source": [
    "#import dataset from 2019 to predict home runs for 2020\n",
    "\n",
    "df_20 = pd.read_csv('/Users/flatironschool/Documents/nyc-ds-010620/Projects/baseball_HR_linear_regression/Loading_Dataset/2020_prediction_dataset.csv', index_col=0)"
   ]
  },
  {
   "cell_type": "code",
   "execution_count": 22,
   "metadata": {},
   "outputs": [
    {
     "data": {
      "text/html": [
       "<div>\n",
       "<style scoped>\n",
       "    .dataframe tbody tr th:only-of-type {\n",
       "        vertical-align: middle;\n",
       "    }\n",
       "\n",
       "    .dataframe tbody tr th {\n",
       "        vertical-align: top;\n",
       "    }\n",
       "\n",
       "    .dataframe thead th {\n",
       "        text-align: right;\n",
       "    }\n",
       "</style>\n",
       "<table border=\"1\" class=\"dataframe\">\n",
       "  <thead>\n",
       "    <tr style=\"text-align: right;\">\n",
       "      <th></th>\n",
       "      <th>avg_hit_angle</th>\n",
       "      <th>anglesweetspotpercent</th>\n",
       "      <th>avg_hit_speed</th>\n",
       "      <th>fbld</th>\n",
       "      <th>avg_hr_distance</th>\n",
       "      <th>ev95percent</th>\n",
       "      <th>brl_pa</th>\n",
       "      <th>full_name</th>\n",
       "      <th>ba</th>\n",
       "      <th>est_ba</th>\n",
       "      <th>...</th>\n",
       "      <th>OPS</th>\n",
       "      <th>RBI/PA</th>\n",
       "      <th>SO/PA</th>\n",
       "      <th>SH/PA</th>\n",
       "      <th>SF/PA</th>\n",
       "      <th>IBB/PA</th>\n",
       "      <th>CHR_per_PA</th>\n",
       "      <th>angle_sweet_spot_index</th>\n",
       "      <th>AS__2</th>\n",
       "      <th>AS__3</th>\n",
       "    </tr>\n",
       "  </thead>\n",
       "  <tbody>\n",
       "    <tr>\n",
       "      <td>0</td>\n",
       "      <td>15.3</td>\n",
       "      <td>42.4</td>\n",
       "      <td>86.4</td>\n",
       "      <td>90.6</td>\n",
       "      <td>392.0</td>\n",
       "      <td>28.9</td>\n",
       "      <td>3.3</td>\n",
       "      <td>Whit Merrifield</td>\n",
       "      <td>0.302</td>\n",
       "      <td>0.288</td>\n",
       "      <td>...</td>\n",
       "      <td>0.811</td>\n",
       "      <td>0.100680</td>\n",
       "      <td>0.171429</td>\n",
       "      <td>0.000000</td>\n",
       "      <td>0.005442</td>\n",
       "      <td>0.006803</td>\n",
       "      <td>0.021769</td>\n",
       "      <td>3</td>\n",
       "      <td>0</td>\n",
       "      <td>1</td>\n",
       "    </tr>\n",
       "    <tr>\n",
       "      <td>1</td>\n",
       "      <td>14.7</td>\n",
       "      <td>34.7</td>\n",
       "      <td>88.8</td>\n",
       "      <td>93.2</td>\n",
       "      <td>401.0</td>\n",
       "      <td>37.8</td>\n",
       "      <td>6.3</td>\n",
       "      <td>Marcus Semien</td>\n",
       "      <td>0.285</td>\n",
       "      <td>0.275</td>\n",
       "      <td>...</td>\n",
       "      <td>0.892</td>\n",
       "      <td>0.123159</td>\n",
       "      <td>0.136546</td>\n",
       "      <td>0.000000</td>\n",
       "      <td>0.001339</td>\n",
       "      <td>0.002677</td>\n",
       "      <td>0.044177</td>\n",
       "      <td>2</td>\n",
       "      <td>1</td>\n",
       "      <td>0</td>\n",
       "    </tr>\n",
       "    <tr>\n",
       "      <td>2</td>\n",
       "      <td>10.9</td>\n",
       "      <td>29.6</td>\n",
       "      <td>88.6</td>\n",
       "      <td>91.5</td>\n",
       "      <td>399.0</td>\n",
       "      <td>37.7</td>\n",
       "      <td>4.9</td>\n",
       "      <td>Starlin Castro</td>\n",
       "      <td>0.270</td>\n",
       "      <td>0.268</td>\n",
       "      <td>...</td>\n",
       "      <td>0.736</td>\n",
       "      <td>0.127219</td>\n",
       "      <td>0.164201</td>\n",
       "      <td>0.000000</td>\n",
       "      <td>0.013314</td>\n",
       "      <td>0.002959</td>\n",
       "      <td>0.032544</td>\n",
       "      <td>2</td>\n",
       "      <td>1</td>\n",
       "      <td>0</td>\n",
       "    </tr>\n",
       "    <tr>\n",
       "      <td>3</td>\n",
       "      <td>9.8</td>\n",
       "      <td>38.4</td>\n",
       "      <td>83.7</td>\n",
       "      <td>86.6</td>\n",
       "      <td>375.0</td>\n",
       "      <td>16.9</td>\n",
       "      <td>0.3</td>\n",
       "      <td>David Fletcher</td>\n",
       "      <td>0.290</td>\n",
       "      <td>0.302</td>\n",
       "      <td>...</td>\n",
       "      <td>0.734</td>\n",
       "      <td>0.075038</td>\n",
       "      <td>0.098009</td>\n",
       "      <td>0.001531</td>\n",
       "      <td>0.001531</td>\n",
       "      <td>0.003063</td>\n",
       "      <td>0.009188</td>\n",
       "      <td>3</td>\n",
       "      <td>0</td>\n",
       "      <td>1</td>\n",
       "    </tr>\n",
       "    <tr>\n",
       "      <td>4</td>\n",
       "      <td>15.6</td>\n",
       "      <td>36.8</td>\n",
       "      <td>88.8</td>\n",
       "      <td>91.4</td>\n",
       "      <td>394.0</td>\n",
       "      <td>33.5</td>\n",
       "      <td>5.0</td>\n",
       "      <td>Ozzie Albies</td>\n",
       "      <td>0.295</td>\n",
       "      <td>0.291</td>\n",
       "      <td>...</td>\n",
       "      <td>0.852</td>\n",
       "      <td>0.122507</td>\n",
       "      <td>0.159544</td>\n",
       "      <td>0.000000</td>\n",
       "      <td>0.005698</td>\n",
       "      <td>0.008547</td>\n",
       "      <td>0.034188</td>\n",
       "      <td>3</td>\n",
       "      <td>0</td>\n",
       "      <td>1</td>\n",
       "    </tr>\n",
       "    <tr>\n",
       "      <td>...</td>\n",
       "      <td>...</td>\n",
       "      <td>...</td>\n",
       "      <td>...</td>\n",
       "      <td>...</td>\n",
       "      <td>...</td>\n",
       "      <td>...</td>\n",
       "      <td>...</td>\n",
       "      <td>...</td>\n",
       "      <td>...</td>\n",
       "      <td>...</td>\n",
       "      <td>...</td>\n",
       "      <td>...</td>\n",
       "      <td>...</td>\n",
       "      <td>...</td>\n",
       "      <td>...</td>\n",
       "      <td>...</td>\n",
       "      <td>...</td>\n",
       "      <td>...</td>\n",
       "      <td>...</td>\n",
       "      <td>...</td>\n",
       "      <td>...</td>\n",
       "    </tr>\n",
       "    <tr>\n",
       "      <td>245</td>\n",
       "      <td>7.7</td>\n",
       "      <td>34.9</td>\n",
       "      <td>89.7</td>\n",
       "      <td>93.1</td>\n",
       "      <td>404.0</td>\n",
       "      <td>36.3</td>\n",
       "      <td>3.4</td>\n",
       "      <td>David Bote</td>\n",
       "      <td>0.257</td>\n",
       "      <td>0.251</td>\n",
       "      <td>...</td>\n",
       "      <td>0.785</td>\n",
       "      <td>0.115169</td>\n",
       "      <td>0.261236</td>\n",
       "      <td>0.000000</td>\n",
       "      <td>0.005618</td>\n",
       "      <td>0.011236</td>\n",
       "      <td>0.030899</td>\n",
       "      <td>2</td>\n",
       "      <td>1</td>\n",
       "      <td>0</td>\n",
       "    </tr>\n",
       "    <tr>\n",
       "      <td>246</td>\n",
       "      <td>10.1</td>\n",
       "      <td>36.4</td>\n",
       "      <td>88.2</td>\n",
       "      <td>91.2</td>\n",
       "      <td>398.0</td>\n",
       "      <td>38.0</td>\n",
       "      <td>2.2</td>\n",
       "      <td>Ben Gamel</td>\n",
       "      <td>0.248</td>\n",
       "      <td>0.235</td>\n",
       "      <td>...</td>\n",
       "      <td>0.710</td>\n",
       "      <td>0.092697</td>\n",
       "      <td>0.292135</td>\n",
       "      <td>0.000000</td>\n",
       "      <td>0.005618</td>\n",
       "      <td>0.005618</td>\n",
       "      <td>0.019663</td>\n",
       "      <td>3</td>\n",
       "      <td>0</td>\n",
       "      <td>1</td>\n",
       "    </tr>\n",
       "    <tr>\n",
       "      <td>247</td>\n",
       "      <td>16.0</td>\n",
       "      <td>38.0</td>\n",
       "      <td>91.4</td>\n",
       "      <td>95.1</td>\n",
       "      <td>402.0</td>\n",
       "      <td>50.0</td>\n",
       "      <td>8.3</td>\n",
       "      <td>Keston Hiura</td>\n",
       "      <td>0.303</td>\n",
       "      <td>0.266</td>\n",
       "      <td>...</td>\n",
       "      <td>0.938</td>\n",
       "      <td>0.140805</td>\n",
       "      <td>0.307471</td>\n",
       "      <td>0.000000</td>\n",
       "      <td>0.002874</td>\n",
       "      <td>0.002874</td>\n",
       "      <td>0.054598</td>\n",
       "      <td>3</td>\n",
       "      <td>0</td>\n",
       "      <td>1</td>\n",
       "    </tr>\n",
       "    <tr>\n",
       "      <td>248</td>\n",
       "      <td>20.4</td>\n",
       "      <td>32.0</td>\n",
       "      <td>85.8</td>\n",
       "      <td>92.0</td>\n",
       "      <td>403.0</td>\n",
       "      <td>32.5</td>\n",
       "      <td>4.9</td>\n",
       "      <td>Austin Hedges</td>\n",
       "      <td>0.176</td>\n",
       "      <td>0.198</td>\n",
       "      <td>...</td>\n",
       "      <td>0.563</td>\n",
       "      <td>0.103746</td>\n",
       "      <td>0.314121</td>\n",
       "      <td>0.005764</td>\n",
       "      <td>0.002882</td>\n",
       "      <td>0.008646</td>\n",
       "      <td>0.031700</td>\n",
       "      <td>2</td>\n",
       "      <td>1</td>\n",
       "      <td>0</td>\n",
       "    </tr>\n",
       "    <tr>\n",
       "      <td>249</td>\n",
       "      <td>14.1</td>\n",
       "      <td>39.8</td>\n",
       "      <td>89.1</td>\n",
       "      <td>93.1</td>\n",
       "      <td>390.0</td>\n",
       "      <td>39.2</td>\n",
       "      <td>5.1</td>\n",
       "      <td>Chris Davis</td>\n",
       "      <td>0.179</td>\n",
       "      <td>0.206</td>\n",
       "      <td>...</td>\n",
       "      <td>0.601</td>\n",
       "      <td>0.102273</td>\n",
       "      <td>0.394886</td>\n",
       "      <td>0.000000</td>\n",
       "      <td>0.008523</td>\n",
       "      <td>0.002841</td>\n",
       "      <td>0.034091</td>\n",
       "      <td>3</td>\n",
       "      <td>0</td>\n",
       "      <td>1</td>\n",
       "    </tr>\n",
       "  </tbody>\n",
       "</table>\n",
       "<p>250 rows × 29 columns</p>\n",
       "</div>"
      ],
      "text/plain": [
       "     avg_hit_angle  anglesweetspotpercent  avg_hit_speed  fbld  \\\n",
       "0             15.3                   42.4           86.4  90.6   \n",
       "1             14.7                   34.7           88.8  93.2   \n",
       "2             10.9                   29.6           88.6  91.5   \n",
       "3              9.8                   38.4           83.7  86.6   \n",
       "4             15.6                   36.8           88.8  91.4   \n",
       "..             ...                    ...            ...   ...   \n",
       "245            7.7                   34.9           89.7  93.1   \n",
       "246           10.1                   36.4           88.2  91.2   \n",
       "247           16.0                   38.0           91.4  95.1   \n",
       "248           20.4                   32.0           85.8  92.0   \n",
       "249           14.1                   39.8           89.1  93.1   \n",
       "\n",
       "     avg_hr_distance  ev95percent  brl_pa         full_name     ba  est_ba  \\\n",
       "0              392.0         28.9     3.3   Whit Merrifield  0.302   0.288   \n",
       "1              401.0         37.8     6.3     Marcus Semien  0.285   0.275   \n",
       "2              399.0         37.7     4.9    Starlin Castro  0.270   0.268   \n",
       "3              375.0         16.9     0.3    David Fletcher  0.290   0.302   \n",
       "4              394.0         33.5     5.0      Ozzie Albies  0.295   0.291   \n",
       "..               ...          ...     ...               ...    ...     ...   \n",
       "245            404.0         36.3     3.4        David Bote  0.257   0.251   \n",
       "246            398.0         38.0     2.2         Ben Gamel  0.248   0.235   \n",
       "247            402.0         50.0     8.3      Keston Hiura  0.303   0.266   \n",
       "248            403.0         32.5     4.9     Austin Hedges  0.176   0.198   \n",
       "249            390.0         39.2     5.1       Chris Davis  0.179   0.206   \n",
       "\n",
       "     ...    OPS    RBI/PA     SO/PA     SH/PA     SF/PA    IBB/PA  CHR_per_PA  \\\n",
       "0    ...  0.811  0.100680  0.171429  0.000000  0.005442  0.006803    0.021769   \n",
       "1    ...  0.892  0.123159  0.136546  0.000000  0.001339  0.002677    0.044177   \n",
       "2    ...  0.736  0.127219  0.164201  0.000000  0.013314  0.002959    0.032544   \n",
       "3    ...  0.734  0.075038  0.098009  0.001531  0.001531  0.003063    0.009188   \n",
       "4    ...  0.852  0.122507  0.159544  0.000000  0.005698  0.008547    0.034188   \n",
       "..   ...    ...       ...       ...       ...       ...       ...         ...   \n",
       "245  ...  0.785  0.115169  0.261236  0.000000  0.005618  0.011236    0.030899   \n",
       "246  ...  0.710  0.092697  0.292135  0.000000  0.005618  0.005618    0.019663   \n",
       "247  ...  0.938  0.140805  0.307471  0.000000  0.002874  0.002874    0.054598   \n",
       "248  ...  0.563  0.103746  0.314121  0.005764  0.002882  0.008646    0.031700   \n",
       "249  ...  0.601  0.102273  0.394886  0.000000  0.008523  0.002841    0.034091   \n",
       "\n",
       "     angle_sweet_spot_index  AS__2  AS__3  \n",
       "0                         3      0      1  \n",
       "1                         2      1      0  \n",
       "2                         2      1      0  \n",
       "3                         3      0      1  \n",
       "4                         3      0      1  \n",
       "..                      ...    ...    ...  \n",
       "245                       2      1      0  \n",
       "246                       3      0      1  \n",
       "247                       3      0      1  \n",
       "248                       2      1      0  \n",
       "249                       3      0      1  \n",
       "\n",
       "[250 rows x 29 columns]"
      ]
     },
     "execution_count": 22,
     "metadata": {},
     "output_type": "execute_result"
    }
   ],
   "source": [
    "df_20"
   ]
  },
  {
   "cell_type": "code",
   "execution_count": 23,
   "metadata": {},
   "outputs": [],
   "source": [
    "#Create our predictor variables\n",
    "\n",
    "X_predict = df_20[['avg_hit_angle', 'avg_hit_speed', 'brl_pa', 'est_slg', \n",
    "                                                        'Age', 'AS__2', 'AS__3']]\n",
    "\n"
   ]
  },
  {
   "cell_type": "code",
   "execution_count": 24,
   "metadata": {},
   "outputs": [],
   "source": [
    "#scale predictors\n",
    "\n",
    "scale = StandardScaler()\n",
    "X_predict_transformed = scale.fit_transform(X_predict)"
   ]
  },
  {
   "cell_type": "code",
   "execution_count": 32,
   "metadata": {},
   "outputs": [
    {
     "data": {
      "text/plain": [
       "Index(['avg_hit_angle', 'anglesweetspotpercent', 'avg_hit_speed', 'fbld',\n",
       "       'avg_hr_distance', 'ev95percent', 'brl_pa', 'full_name', 'ba', 'est_ba',\n",
       "       'slg', 'est_slg', 'woba', 'est_woba', 'Age', 'Tm', 'PA▼', 'HR', 'OBP',\n",
       "       'OPS', 'RBI/PA', 'SO/PA', 'SH/PA', 'SF/PA', 'IBB/PA', 'CHR_per_PA',\n",
       "       'angle_sweet_spot_index', 'AS__2', 'AS__3', 'homer_predictions'],\n",
       "      dtype='object')"
      ]
     },
     "execution_count": 32,
     "metadata": {},
     "output_type": "execute_result"
    }
   ],
   "source": [
    "df_20.columns"
   ]
  },
  {
   "cell_type": "code",
   "execution_count": 33,
   "metadata": {},
   "outputs": [],
   "source": [
    "#make predictions\n",
    "\n",
    "Y_predictions = np.e**lin.predict(X_predict_transformed)"
   ]
  },
  {
   "cell_type": "code",
   "execution_count": 34,
   "metadata": {},
   "outputs": [],
   "source": [
    "#reverse log transformation on predictions and multiply by number of plate appearances for each player\n",
    "\n",
    "df_20['homer_predictions'] = Y_predictions*df_20['PA▼']"
   ]
  },
  {
   "cell_type": "code",
   "execution_count": 37,
   "metadata": {},
   "outputs": [
    {
     "data": {
      "text/html": [
       "<div>\n",
       "<style scoped>\n",
       "    .dataframe tbody tr th:only-of-type {\n",
       "        vertical-align: middle;\n",
       "    }\n",
       "\n",
       "    .dataframe tbody tr th {\n",
       "        vertical-align: top;\n",
       "    }\n",
       "\n",
       "    .dataframe thead th {\n",
       "        text-align: right;\n",
       "    }\n",
       "</style>\n",
       "<table border=\"1\" class=\"dataframe\">\n",
       "  <thead>\n",
       "    <tr style=\"text-align: right;\">\n",
       "      <th></th>\n",
       "      <th>avg_hit_angle</th>\n",
       "      <th>anglesweetspotpercent</th>\n",
       "      <th>avg_hit_speed</th>\n",
       "      <th>fbld</th>\n",
       "      <th>avg_hr_distance</th>\n",
       "      <th>ev95percent</th>\n",
       "      <th>brl_pa</th>\n",
       "      <th>full_name</th>\n",
       "      <th>ba</th>\n",
       "      <th>est_ba</th>\n",
       "      <th>...</th>\n",
       "      <th>RBI/PA</th>\n",
       "      <th>SO/PA</th>\n",
       "      <th>SH/PA</th>\n",
       "      <th>SF/PA</th>\n",
       "      <th>IBB/PA</th>\n",
       "      <th>CHR_per_PA</th>\n",
       "      <th>angle_sweet_spot_index</th>\n",
       "      <th>AS__2</th>\n",
       "      <th>AS__3</th>\n",
       "      <th>homer_predictions</th>\n",
       "    </tr>\n",
       "  </thead>\n",
       "  <tbody>\n",
       "    <tr>\n",
       "      <td>0</td>\n",
       "      <td>15.3</td>\n",
       "      <td>42.4</td>\n",
       "      <td>86.4</td>\n",
       "      <td>90.6</td>\n",
       "      <td>392.0</td>\n",
       "      <td>28.9</td>\n",
       "      <td>3.3</td>\n",
       "      <td>Whit Merrifield</td>\n",
       "      <td>0.302</td>\n",
       "      <td>0.288</td>\n",
       "      <td>...</td>\n",
       "      <td>0.100680</td>\n",
       "      <td>0.171429</td>\n",
       "      <td>0.000000</td>\n",
       "      <td>0.005442</td>\n",
       "      <td>0.006803</td>\n",
       "      <td>0.021769</td>\n",
       "      <td>3</td>\n",
       "      <td>0</td>\n",
       "      <td>1</td>\n",
       "      <td>15.874233</td>\n",
       "    </tr>\n",
       "    <tr>\n",
       "      <td>1</td>\n",
       "      <td>14.7</td>\n",
       "      <td>34.7</td>\n",
       "      <td>88.8</td>\n",
       "      <td>93.2</td>\n",
       "      <td>401.0</td>\n",
       "      <td>37.8</td>\n",
       "      <td>6.3</td>\n",
       "      <td>Marcus Semien</td>\n",
       "      <td>0.285</td>\n",
       "      <td>0.275</td>\n",
       "      <td>...</td>\n",
       "      <td>0.123159</td>\n",
       "      <td>0.136546</td>\n",
       "      <td>0.000000</td>\n",
       "      <td>0.001339</td>\n",
       "      <td>0.002677</td>\n",
       "      <td>0.044177</td>\n",
       "      <td>2</td>\n",
       "      <td>1</td>\n",
       "      <td>0</td>\n",
       "      <td>26.289624</td>\n",
       "    </tr>\n",
       "    <tr>\n",
       "      <td>2</td>\n",
       "      <td>10.9</td>\n",
       "      <td>29.6</td>\n",
       "      <td>88.6</td>\n",
       "      <td>91.5</td>\n",
       "      <td>399.0</td>\n",
       "      <td>37.7</td>\n",
       "      <td>4.9</td>\n",
       "      <td>Starlin Castro</td>\n",
       "      <td>0.270</td>\n",
       "      <td>0.268</td>\n",
       "      <td>...</td>\n",
       "      <td>0.127219</td>\n",
       "      <td>0.164201</td>\n",
       "      <td>0.000000</td>\n",
       "      <td>0.013314</td>\n",
       "      <td>0.002959</td>\n",
       "      <td>0.032544</td>\n",
       "      <td>2</td>\n",
       "      <td>1</td>\n",
       "      <td>0</td>\n",
       "      <td>18.501254</td>\n",
       "    </tr>\n",
       "    <tr>\n",
       "      <td>3</td>\n",
       "      <td>9.8</td>\n",
       "      <td>38.4</td>\n",
       "      <td>83.7</td>\n",
       "      <td>86.6</td>\n",
       "      <td>375.0</td>\n",
       "      <td>16.9</td>\n",
       "      <td>0.3</td>\n",
       "      <td>David Fletcher</td>\n",
       "      <td>0.290</td>\n",
       "      <td>0.302</td>\n",
       "      <td>...</td>\n",
       "      <td>0.075038</td>\n",
       "      <td>0.098009</td>\n",
       "      <td>0.001531</td>\n",
       "      <td>0.001531</td>\n",
       "      <td>0.003063</td>\n",
       "      <td>0.009188</td>\n",
       "      <td>3</td>\n",
       "      <td>0</td>\n",
       "      <td>1</td>\n",
       "      <td>7.758810</td>\n",
       "    </tr>\n",
       "    <tr>\n",
       "      <td>4</td>\n",
       "      <td>15.6</td>\n",
       "      <td>36.8</td>\n",
       "      <td>88.8</td>\n",
       "      <td>91.4</td>\n",
       "      <td>394.0</td>\n",
       "      <td>33.5</td>\n",
       "      <td>5.0</td>\n",
       "      <td>Ozzie Albies</td>\n",
       "      <td>0.295</td>\n",
       "      <td>0.291</td>\n",
       "      <td>...</td>\n",
       "      <td>0.122507</td>\n",
       "      <td>0.159544</td>\n",
       "      <td>0.000000</td>\n",
       "      <td>0.005698</td>\n",
       "      <td>0.008547</td>\n",
       "      <td>0.034188</td>\n",
       "      <td>3</td>\n",
       "      <td>0</td>\n",
       "      <td>1</td>\n",
       "      <td>23.496650</td>\n",
       "    </tr>\n",
       "    <tr>\n",
       "      <td>...</td>\n",
       "      <td>...</td>\n",
       "      <td>...</td>\n",
       "      <td>...</td>\n",
       "      <td>...</td>\n",
       "      <td>...</td>\n",
       "      <td>...</td>\n",
       "      <td>...</td>\n",
       "      <td>...</td>\n",
       "      <td>...</td>\n",
       "      <td>...</td>\n",
       "      <td>...</td>\n",
       "      <td>...</td>\n",
       "      <td>...</td>\n",
       "      <td>...</td>\n",
       "      <td>...</td>\n",
       "      <td>...</td>\n",
       "      <td>...</td>\n",
       "      <td>...</td>\n",
       "      <td>...</td>\n",
       "      <td>...</td>\n",
       "      <td>...</td>\n",
       "    </tr>\n",
       "    <tr>\n",
       "      <td>245</td>\n",
       "      <td>7.7</td>\n",
       "      <td>34.9</td>\n",
       "      <td>89.7</td>\n",
       "      <td>93.1</td>\n",
       "      <td>404.0</td>\n",
       "      <td>36.3</td>\n",
       "      <td>3.4</td>\n",
       "      <td>David Bote</td>\n",
       "      <td>0.257</td>\n",
       "      <td>0.251</td>\n",
       "      <td>...</td>\n",
       "      <td>0.115169</td>\n",
       "      <td>0.261236</td>\n",
       "      <td>0.000000</td>\n",
       "      <td>0.005618</td>\n",
       "      <td>0.011236</td>\n",
       "      <td>0.030899</td>\n",
       "      <td>2</td>\n",
       "      <td>1</td>\n",
       "      <td>0</td>\n",
       "      <td>9.085059</td>\n",
       "    </tr>\n",
       "    <tr>\n",
       "      <td>246</td>\n",
       "      <td>10.1</td>\n",
       "      <td>36.4</td>\n",
       "      <td>88.2</td>\n",
       "      <td>91.2</td>\n",
       "      <td>398.0</td>\n",
       "      <td>38.0</td>\n",
       "      <td>2.2</td>\n",
       "      <td>Ben Gamel</td>\n",
       "      <td>0.248</td>\n",
       "      <td>0.235</td>\n",
       "      <td>...</td>\n",
       "      <td>0.092697</td>\n",
       "      <td>0.292135</td>\n",
       "      <td>0.000000</td>\n",
       "      <td>0.005618</td>\n",
       "      <td>0.005618</td>\n",
       "      <td>0.019663</td>\n",
       "      <td>3</td>\n",
       "      <td>0</td>\n",
       "      <td>1</td>\n",
       "      <td>7.551492</td>\n",
       "    </tr>\n",
       "    <tr>\n",
       "      <td>247</td>\n",
       "      <td>16.0</td>\n",
       "      <td>38.0</td>\n",
       "      <td>91.4</td>\n",
       "      <td>95.1</td>\n",
       "      <td>402.0</td>\n",
       "      <td>50.0</td>\n",
       "      <td>8.3</td>\n",
       "      <td>Keston Hiura</td>\n",
       "      <td>0.303</td>\n",
       "      <td>0.266</td>\n",
       "      <td>...</td>\n",
       "      <td>0.140805</td>\n",
       "      <td>0.307471</td>\n",
       "      <td>0.000000</td>\n",
       "      <td>0.002874</td>\n",
       "      <td>0.002874</td>\n",
       "      <td>0.054598</td>\n",
       "      <td>3</td>\n",
       "      <td>0</td>\n",
       "      <td>1</td>\n",
       "      <td>18.859986</td>\n",
       "    </tr>\n",
       "    <tr>\n",
       "      <td>248</td>\n",
       "      <td>20.4</td>\n",
       "      <td>32.0</td>\n",
       "      <td>85.8</td>\n",
       "      <td>92.0</td>\n",
       "      <td>403.0</td>\n",
       "      <td>32.5</td>\n",
       "      <td>4.9</td>\n",
       "      <td>Austin Hedges</td>\n",
       "      <td>0.176</td>\n",
       "      <td>0.198</td>\n",
       "      <td>...</td>\n",
       "      <td>0.103746</td>\n",
       "      <td>0.314121</td>\n",
       "      <td>0.005764</td>\n",
       "      <td>0.002882</td>\n",
       "      <td>0.008646</td>\n",
       "      <td>0.031700</td>\n",
       "      <td>2</td>\n",
       "      <td>1</td>\n",
       "      <td>0</td>\n",
       "      <td>13.282082</td>\n",
       "    </tr>\n",
       "    <tr>\n",
       "      <td>249</td>\n",
       "      <td>14.1</td>\n",
       "      <td>39.8</td>\n",
       "      <td>89.1</td>\n",
       "      <td>93.1</td>\n",
       "      <td>390.0</td>\n",
       "      <td>39.2</td>\n",
       "      <td>5.1</td>\n",
       "      <td>Chris Davis</td>\n",
       "      <td>0.179</td>\n",
       "      <td>0.206</td>\n",
       "      <td>...</td>\n",
       "      <td>0.102273</td>\n",
       "      <td>0.394886</td>\n",
       "      <td>0.000000</td>\n",
       "      <td>0.008523</td>\n",
       "      <td>0.002841</td>\n",
       "      <td>0.034091</td>\n",
       "      <td>3</td>\n",
       "      <td>0</td>\n",
       "      <td>1</td>\n",
       "      <td>10.948390</td>\n",
       "    </tr>\n",
       "  </tbody>\n",
       "</table>\n",
       "<p>250 rows × 30 columns</p>\n",
       "</div>"
      ],
      "text/plain": [
       "     avg_hit_angle  anglesweetspotpercent  avg_hit_speed  fbld  \\\n",
       "0             15.3                   42.4           86.4  90.6   \n",
       "1             14.7                   34.7           88.8  93.2   \n",
       "2             10.9                   29.6           88.6  91.5   \n",
       "3              9.8                   38.4           83.7  86.6   \n",
       "4             15.6                   36.8           88.8  91.4   \n",
       "..             ...                    ...            ...   ...   \n",
       "245            7.7                   34.9           89.7  93.1   \n",
       "246           10.1                   36.4           88.2  91.2   \n",
       "247           16.0                   38.0           91.4  95.1   \n",
       "248           20.4                   32.0           85.8  92.0   \n",
       "249           14.1                   39.8           89.1  93.1   \n",
       "\n",
       "     avg_hr_distance  ev95percent  brl_pa         full_name     ba  est_ba  \\\n",
       "0              392.0         28.9     3.3   Whit Merrifield  0.302   0.288   \n",
       "1              401.0         37.8     6.3     Marcus Semien  0.285   0.275   \n",
       "2              399.0         37.7     4.9    Starlin Castro  0.270   0.268   \n",
       "3              375.0         16.9     0.3    David Fletcher  0.290   0.302   \n",
       "4              394.0         33.5     5.0      Ozzie Albies  0.295   0.291   \n",
       "..               ...          ...     ...               ...    ...     ...   \n",
       "245            404.0         36.3     3.4        David Bote  0.257   0.251   \n",
       "246            398.0         38.0     2.2         Ben Gamel  0.248   0.235   \n",
       "247            402.0         50.0     8.3      Keston Hiura  0.303   0.266   \n",
       "248            403.0         32.5     4.9     Austin Hedges  0.176   0.198   \n",
       "249            390.0         39.2     5.1       Chris Davis  0.179   0.206   \n",
       "\n",
       "     ...    RBI/PA     SO/PA     SH/PA     SF/PA    IBB/PA CHR_per_PA  \\\n",
       "0    ...  0.100680  0.171429  0.000000  0.005442  0.006803   0.021769   \n",
       "1    ...  0.123159  0.136546  0.000000  0.001339  0.002677   0.044177   \n",
       "2    ...  0.127219  0.164201  0.000000  0.013314  0.002959   0.032544   \n",
       "3    ...  0.075038  0.098009  0.001531  0.001531  0.003063   0.009188   \n",
       "4    ...  0.122507  0.159544  0.000000  0.005698  0.008547   0.034188   \n",
       "..   ...       ...       ...       ...       ...       ...        ...   \n",
       "245  ...  0.115169  0.261236  0.000000  0.005618  0.011236   0.030899   \n",
       "246  ...  0.092697  0.292135  0.000000  0.005618  0.005618   0.019663   \n",
       "247  ...  0.140805  0.307471  0.000000  0.002874  0.002874   0.054598   \n",
       "248  ...  0.103746  0.314121  0.005764  0.002882  0.008646   0.031700   \n",
       "249  ...  0.102273  0.394886  0.000000  0.008523  0.002841   0.034091   \n",
       "\n",
       "     angle_sweet_spot_index  AS__2  AS__3  homer_predictions  \n",
       "0                         3      0      1          15.874233  \n",
       "1                         2      1      0          26.289624  \n",
       "2                         2      1      0          18.501254  \n",
       "3                         3      0      1           7.758810  \n",
       "4                         3      0      1          23.496650  \n",
       "..                      ...    ...    ...                ...  \n",
       "245                       2      1      0           9.085059  \n",
       "246                       3      0      1           7.551492  \n",
       "247                       3      0      1          18.859986  \n",
       "248                       2      1      0          13.282082  \n",
       "249                       3      0      1          10.948390  \n",
       "\n",
       "[250 rows x 30 columns]"
      ]
     },
     "execution_count": 37,
     "metadata": {},
     "output_type": "execute_result"
    }
   ],
   "source": [
    "df_20"
   ]
  },
  {
   "cell_type": "code",
   "execution_count": 28,
   "metadata": {},
   "outputs": [
    {
     "data": {
      "text/plain": [
       "83    30.376446\n",
       "Name: homer_predictions, dtype: float64"
      ]
     },
     "execution_count": 28,
     "metadata": {},
     "output_type": "execute_result"
    }
   ],
   "source": [
    "df_20[df_20['full_name'] == \" Bryce Harper\"]['homer_predictions']"
   ]
  },
  {
   "cell_type": "code",
   "execution_count": 42,
   "metadata": {},
   "outputs": [
    {
     "data": {
      "text/plain": [
       "Text(0.5, 1.0, 'Histogram of Residuals.')"
      ]
     },
     "execution_count": 42,
     "metadata": {},
     "output_type": "execute_result"
    },
    {
     "data": {
      "image/png": "[encoded data removed]",
      "text/plain": [
       "<Figure size 504x360 with 1 Axes>"
      ]
     },
     "metadata": {
      "needs_background": "light"
     },
     "output_type": "display_data"
    }
   ],
   "source": [
    "\n",
    "f = plt.figure(figsize=(7, 5))\n",
    "ax = f.add_subplot(111)\n",
    "ax.hist(df_20.HR - df_20.homer_predictions, bins=50)\n",
    "ax.set_title(\"Histogram of Residuals.\")\n"
   ]
  },
  {
   "cell_type": "code",
   "execution_count": 46,
   "metadata": {},
   "outputs": [
    {
     "data": {
      "image/png": "[encoded data removed]",
      "text/plain": [
       "<Figure size 864x576 with 8 Axes>"
      ]
     },
     "metadata": {
      "needs_background": "light"
     },
     "output_type": "display_data"
    }
   ],
   "source": [
    "fig = plt.figure(figsize=(12,8))\n",
    "fig = sm.graphics.plot_partregress_grid(lr_model, fig=fig)"
   ]
  },
  {
   "cell_type": "code",
   "execution_count": 52,
   "metadata": {},
   "outputs": [
    {
     "data": {
      "text/plain": [
       "Text(0.5, 1.0, 'Residuals')"
      ]
     },
     "execution_count": 52,
     "metadata": {},
     "output_type": "execute_result"
    },
    {
     "data": {
      "image/png": "[encoded data removed]",
      "text/plain": [
       "<Figure size 432x288 with 1 Axes>"
      ]
     },
     "metadata": {
      "needs_background": "light"
     },
     "output_type": "display_data"
    }
   ],
   "source": [
    "sns.residplot(df_20.HR, df_20.homer_predictions)\n",
    "plt.title('Residuals')\n"
   ]
  },
  {
   "cell_type": "code",
   "execution_count": null,
   "metadata": {},
   "outputs": [],
   "source": []
  }
 ],
 "metadata": {
  "kernelspec": {
   "display_name": "Python 3",
   "language": "python",
   "name": "python3"
  },
  "language_info": {
   "codemirror_mode": {
    "name": "ipython",
    "version": 3
   },
   "file_extension": ".py",
   "mimetype": "text/x-python",
   "name": "python",
   "nbconvert_exporter": "python",
   "pygments_lexer": "ipython3",
   "version": "3.7.4"
  }
 },
 "nbformat": 4,
 "nbformat_minor": 2
}
