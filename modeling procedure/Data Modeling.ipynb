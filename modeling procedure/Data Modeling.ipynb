{
 "cells": [
  {
   "cell_type": "code",
   "execution_count": 60,
   "metadata": {},
   "outputs": [],
   "source": [
    "import pandas as pd\n",
    "import matplotlib.pyplot as plt\n",
    "import seaborn as sns\n",
    "import numpy as np\n",
    "# to divide train and test set\n",
    "from sklearn.model_selection import train_test_split\n",
    "from sklearn import linear_model\n",
    "\n",
    "\n",
    "# feature scaling\n",
    "from sklearn.preprocessing import MinMaxScaler\n",
    "\n",
    "from sklearn.linear_model import LinearRegression\n",
    "from sklearn.preprocessing import MinMaxScaler\n",
    "from sklearn.preprocessing import StandardScaler\n",
    "from sklearn.linear_model import Lasso, Ridge, LinearRegression\n",
    "from sklearn.model_selection import train_test_split\n"
   ]
  },
  {
   "cell_type": "code",
   "execution_count": 2,
   "metadata": {},
   "outputs": [],
   "source": [
    "df = pd.read_csv('/Users/flatironschool/Documents/nyc-ds-010620/Projects/baseball_HR_linear_regression/Loading_Dataset/cleaned_data.csv', index_col=0)"
   ]
  },
  {
   "cell_type": "code",
   "execution_count": 3,
   "metadata": {
    "scrolled": true
   },
   "outputs": [
    {
     "data": {
      "text/plain": [
       "Index(['avg_hit_angle', 'avg_hit_speed', 'fbld', 'avg_hr_distance',\n",
       "       'ev95percent', 'brl_pa', 'ba', 'est_ba', 'slg', 'est_slg', 'woba',\n",
       "       'est_woba', 'Age', 'HR', 'OBP', 'OPS', 'HR_per_PA', 'RBI_per_PA',\n",
       "       'SO_per_PA', 'SH_per_PA', 'SF_per_PA', 'IBB_per_PA', 'CHR_per_PA',\n",
       "       'AS__2', 'AS__3', 'Tm__ATL', 'Tm__BAL', 'Tm__BOS', 'Tm__CHC', 'Tm__CHW',\n",
       "       'Tm__CIN', 'Tm__CLE', 'Tm__COL', 'Tm__DET', 'Tm__HOU', 'Tm__KCR',\n",
       "       'Tm__LAA', 'Tm__LAD', 'Tm__MIA', 'Tm__MIL', 'Tm__MIN', 'Tm__NYM',\n",
       "       'Tm__NYY', 'Tm__OAK', 'Tm__PHI', 'Tm__PIT', 'Tm__SDP', 'Tm__SEA',\n",
       "       'Tm__SFG', 'Tm__STL', 'Tm__TBR', 'Tm__TEX', 'Tm__TOR', 'Tm__TOT',\n",
       "       'Tm__WSN'],\n",
       "      dtype='object')"
      ]
     },
     "execution_count": 3,
     "metadata": {},
     "output_type": "execute_result"
    }
   ],
   "source": [
    "df.columns"
   ]
  },
  {
   "cell_type": "code",
   "execution_count": 4,
   "metadata": {},
   "outputs": [],
   "source": [
    "X = df.drop(['HR_per_PA'], axis = 1)\n",
    "Y = df.HR_per_PA"
   ]
  },
  {
   "cell_type": "code",
   "execution_count": 5,
   "metadata": {},
   "outputs": [],
   "source": [
    "# from sklearn.feature_selection import SelectKBest, f_regression,mutual_info_regression\n",
    "\n",
    "# selector = SelectKBest(f_regression, k=11)\n",
    "\n",
    "# selector.fit(X, Y)"
   ]
  },
  {
   "cell_type": "code",
   "execution_count": 6,
   "metadata": {},
   "outputs": [],
   "source": [
    "# selected_columns = X.columns[selector.get_support()]\n",
    "# removed_columns = X.columns[~selector.get_support()]"
   ]
  },
  {
   "cell_type": "code",
   "execution_count": 7,
   "metadata": {},
   "outputs": [],
   "source": [
    "# selected_columns"
   ]
  },
  {
   "cell_type": "code",
   "execution_count": 8,
   "metadata": {},
   "outputs": [
    {
     "data": {
      "text/plain": [
       "((686, 7), (172, 7))"
      ]
     },
     "execution_count": 8,
     "metadata": {},
     "output_type": "execute_result"
    }
   ],
   "source": [
    "# Let's separate into train and test set\n",
    "# Remember to set the seed (random_state for this sklearn function)\n",
    "X_train, X_test, y_train, y_test = train_test_split(df[['avg_hit_angle', 'avg_hit_speed', 'brl_pa', 'est_slg', \n",
    "                                                        'Age', 'AS__2', 'AS__3']], Y,\n",
    "                                                    test_size=0.2,\n",
    "                                                    random_state=0) # we are setting the seed here\n",
    "X_train.shape, X_test.shape"
   ]
  },
  {
   "cell_type": "markdown",
   "metadata": {},
   "source": [
    "df[['avg_hit_angle', 'avg_hit_speed', 'ev95percent',\n",
    "       'brl_pa', 'est_slg', 'est_woba', 'Age', 'OBP', 'AS__2', 'AS__3', 'RBI_per_PA']]"
   ]
  },
  {
   "cell_type": "code",
   "execution_count": null,
   "metadata": {},
   "outputs": [],
   "source": []
  },
  {
   "cell_type": "code",
   "execution_count": 9,
   "metadata": {},
   "outputs": [],
   "source": [
    "# building a linear regression model using statsmodel \n",
    "# from statsmodels.formula.api import ols\n",
    "\n",
    "# indep_vars = '+'.join([var for var in df.columns if var != 'HR_per_PA'])\n",
    "# formula = 'HR_per_PA' + \"~\" + indep_vars\n",
    "# lr_model = ols(formula = formula, data = df).fit()"
   ]
  },
  {
   "cell_type": "code",
   "execution_count": 10,
   "metadata": {},
   "outputs": [],
   "source": [
    "# lr_model.summary()"
   ]
  },
  {
   "cell_type": "code",
   "execution_count": 61,
   "metadata": {},
   "outputs": [],
   "source": [
    "scale = StandardScaler()\n",
    "X_train_transformed = scale.fit_transform(X_train)\n",
    "X_test_transformed = scale.transform(X_test)"
   ]
  },
  {
   "cell_type": "code",
   "execution_count": null,
   "metadata": {},
   "outputs": [],
   "source": []
  },
  {
   "cell_type": "code",
   "execution_count": null,
   "metadata": {
    "scrolled": true
   },
   "outputs": [],
   "source": []
  },
  {
   "cell_type": "code",
   "execution_count": 62,
   "metadata": {},
   "outputs": [
    {
     "data": {
      "text/plain": [
       "Ridge(alpha=0.95, copy_X=True, fit_intercept=True, max_iter=None,\n",
       "      normalize=False, random_state=None, solver='auto', tol=0.001)"
      ]
     },
     "execution_count": 62,
     "metadata": {},
     "output_type": "execute_result"
    }
   ],
   "source": [
    "# Build a Ridge, Lasso and regular linear regression model  \n",
    "# Note that in scikit-learn, the regularization parameter is denoted by alpha (and not lambda)\n",
    "ridge = Ridge(alpha=0.95)\n",
    "ridge.fit(X_train_transformed, y_train)"
   ]
  },
  {
   "cell_type": "code",
   "execution_count": 63,
   "metadata": {},
   "outputs": [
    {
     "data": {
      "text/plain": [
       "Lasso(alpha=0.5, copy_X=True, fit_intercept=True, max_iter=1000,\n",
       "      normalize=False, positive=False, precompute=False, random_state=None,\n",
       "      selection='cyclic', tol=0.0001, warm_start=False)"
      ]
     },
     "execution_count": 63,
     "metadata": {},
     "output_type": "execute_result"
    }
   ],
   "source": [
    "lasso = Lasso(alpha=0.5)\n",
    "lasso.fit(X_train_transformed, y_train)"
   ]
  },
  {
   "cell_type": "code",
   "execution_count": 64,
   "metadata": {},
   "outputs": [
    {
     "data": {
      "text/plain": [
       "LinearRegression(copy_X=True, fit_intercept=True, n_jobs=None, normalize=False)"
      ]
     },
     "execution_count": 64,
     "metadata": {},
     "output_type": "execute_result"
    }
   ],
   "source": [
    "lin = LinearRegression()\n",
    "lin.fit(X_train_transformed, y_train)"
   ]
  },
  {
   "cell_type": "code",
   "execution_count": 65,
   "metadata": {},
   "outputs": [],
   "source": [
    "# Generate preditions for training and test sets\n",
    "y_h_ridge_train = ridge.predict(X_train_transformed)\n",
    "y_h_ridge_test = ridge.predict(X_test_transformed)\n",
    "\n"
   ]
  },
  {
   "cell_type": "code",
   "execution_count": 66,
   "metadata": {},
   "outputs": [],
   "source": [
    "y_h_lasso_train = lasso.predict(X_train_transformed)\n",
    "y_h_lasso_test = lasso.predict(X_test_transformed)\n",
    "\n"
   ]
  },
  {
   "cell_type": "code",
   "execution_count": 67,
   "metadata": {},
   "outputs": [],
   "source": [
    "y_h_lin_train = lin.predict(X_train_transformed)\n",
    "y_h_lin_test = lin.predict(X_test_transformed)"
   ]
  },
  {
   "cell_type": "code",
   "execution_count": 68,
   "metadata": {},
   "outputs": [
    {
     "name": "stdout",
     "output_type": "stream",
     "text": [
      "Train Error Ridge Model 0.08386586806576354\n",
      "Test Error Ridge Model 0.021733272869734276\n",
      "\n",
      "\n",
      "Train Error Lasso Model 0.16860654108573525\n",
      "Test Error Lasso Model 0.04550486368984545\n",
      "\n",
      "\n",
      "Train Error Unpenalized Linear Model 0.083865333622162\n",
      "Test Error Unpenalized Linear Model 0.02172910637508791\n"
     ]
    }
   ],
   "source": [
    "print('Train Error Ridge Model', np.sum((y_train - y_h_ridge_train)**2))\n",
    "print('Test Error Ridge Model', np.sum((y_test - y_h_ridge_test)**2))\n",
    "print('\\n')\n",
    "\n",
    "print('Train Error Lasso Model', np.sum((y_train - y_h_lasso_train)**2))\n",
    "print('Test Error Lasso Model', np.sum((y_test - y_h_lasso_test)**2))\n",
    "print('\\n')\n",
    "\n",
    "print('Train Error Unpenalized Linear Model', np.sum((y_train - lin.predict(X_train_transformed))**2))\n",
    "print('Test Error Unpenalized Linear Model', np.sum((y_test - lin.predict(X_test_transformed))**2))"
   ]
  },
  {
   "cell_type": "code",
   "execution_count": null,
   "metadata": {},
   "outputs": [],
   "source": [
    "\n",
    "\n"
   ]
  },
  {
   "cell_type": "code",
   "execution_count": null,
   "metadata": {},
   "outputs": [],
   "source": []
  },
  {
   "cell_type": "code",
   "execution_count": 69,
   "metadata": {},
   "outputs": [],
   "source": [
    "#import the metrics module from sklearn\n",
    "from sklearn import metrics\n"
   ]
  },
  {
   "cell_type": "code",
   "execution_count": 70,
   "metadata": {
    "scrolled": true
   },
   "outputs": [
    {
     "name": "stdout",
     "output_type": "stream",
     "text": [
      "0.6890769246222196\n"
     ]
    }
   ],
   "source": [
    "print(np.sqrt(metrics.mean_squared_error(y_test, y_h_ridge_test))/y_test.std())\n"
   ]
  },
  {
   "cell_type": "code",
   "execution_count": 71,
   "metadata": {},
   "outputs": [],
   "source": [
    "alpha_list = np.linspace(.01, 1, 20)"
   ]
  },
  {
   "cell_type": "code",
   "execution_count": 72,
   "metadata": {},
   "outputs": [
    {
     "name": "stdout",
     "output_type": "stream",
     "text": [
      "Train Error Ridge Model with alpha: 0.01 0.08386533368251695\n",
      "Test Error Ridge Model with alpha: 0.01 0.021729149215326662\n",
      "\n",
      "\n",
      "Train Error Ridge Model with alpha: 0.06210526315789474 0.08386533594762163\n",
      "Test Error Ridge Model with alpha: 0.06210526315789474 0.021729372792714335\n",
      "\n",
      "\n",
      "Train Error Ridge Model with alpha: 0.11421052631578947 0.08386534147820385\n",
      "Test Error Ridge Model with alpha: 0.11421052631578947 0.02172959696795794\n",
      "\n",
      "\n",
      "Train Error Ridge Model with alpha: 0.16631578947368422 0.0838653502638885\n",
      "Test Error Ridge Model with alpha: 0.16631578947368422 0.021729821739000704\n",
      "\n",
      "\n",
      "Train Error Ridge Model with alpha: 0.21842105263157896 0.08386536229433872\n",
      "Test Error Ridge Model with alpha: 0.21842105263157896 0.021730047103793428\n",
      "\n",
      "\n",
      "Train Error Ridge Model with alpha: 0.2705263157894737 0.08386537755925591\n",
      "Test Error Ridge Model with alpha: 0.2705263157894737 0.021730273060294465\n",
      "\n",
      "\n",
      "Train Error Ridge Model with alpha: 0.32263157894736844 0.08386539604837936\n",
      "Test Error Ridge Model with alpha: 0.32263157894736844 0.021730499606469736\n",
      "\n",
      "\n",
      "Train Error Ridge Model with alpha: 0.37473684210526315 0.08386541775148623\n",
      "Test Error Ridge Model with alpha: 0.37473684210526315 0.02173072674029264\n",
      "\n",
      "\n",
      "Train Error Ridge Model with alpha: 0.4268421052631579 0.08386544265839124\n",
      "Test Error Ridge Model with alpha: 0.4268421052631579 0.021730954459744017\n",
      "\n",
      "\n",
      "Train Error Ridge Model with alpha: 0.4789473684210527 0.08386547075894667\n",
      "Test Error Ridge Model with alpha: 0.4789473684210527 0.02173118276281217\n",
      "\n",
      "\n",
      "Train Error Ridge Model with alpha: 0.5310526315789474 0.083865502043042\n",
      "Test Error Ridge Model with alpha: 0.5310526315789474 0.021731411647492795\n",
      "\n",
      "\n",
      "Train Error Ridge Model with alpha: 0.5831578947368421 0.08386553650060391\n",
      "Test Error Ridge Model with alpha: 0.5831578947368421 0.021731641111788956\n",
      "\n",
      "\n",
      "Train Error Ridge Model with alpha: 0.6352631578947369 0.08386557412159605\n",
      "Test Error Ridge Model with alpha: 0.6352631578947369 0.02173187115371105\n",
      "\n",
      "\n",
      "Train Error Ridge Model with alpha: 0.6873684210526316 0.08386561489601885\n",
      "Test Error Ridge Model with alpha: 0.6873684210526316 0.021732101771276786\n",
      "\n",
      "\n",
      "Train Error Ridge Model with alpha: 0.7394736842105263 0.0838656588139094\n",
      "Test Error Ridge Model with alpha: 0.7394736842105263 0.021732332962511137\n",
      "\n",
      "\n",
      "Train Error Ridge Model with alpha: 0.791578947368421 0.08386570586534123\n",
      "Test Error Ridge Model with alpha: 0.791578947368421 0.021732564725446324\n",
      "\n",
      "\n",
      "Train Error Ridge Model with alpha: 0.8436842105263158 0.08386575604042423\n",
      "Test Error Ridge Model with alpha: 0.8436842105263158 0.02173279705812178\n",
      "\n",
      "\n",
      "Train Error Ridge Model with alpha: 0.8957894736842106 0.08386580932930444\n",
      "Test Error Ridge Model with alpha: 0.8957894736842106 0.021733029958584116\n",
      "\n",
      "\n",
      "Train Error Ridge Model with alpha: 0.9478947368421053 0.08386586572216387\n",
      "Test Error Ridge Model with alpha: 0.9478947368421053 0.0217332634248871\n",
      "\n",
      "\n",
      "Train Error Ridge Model with alpha: 1.0 0.08386592520922041\n",
      "Test Error Ridge Model with alpha: 1.0 0.0217334974550916\n",
      "\n",
      "\n"
     ]
    }
   ],
   "source": [
    "for a in alpha_list:\n",
    "    ridge = Ridge(alpha=a)\n",
    "    ridge.fit(X_train_transformed, y_train)\n",
    "    \n",
    "    # Generate preditions for training and test sets\n",
    "    y_h_ridge_train = ridge.predict(X_train_transformed)\n",
    "    y_h_ridge_test = ridge.predict(X_test_transformed)\n",
    "\n",
    "    \n",
    "    print('Train Error Ridge Model with alpha: {}'.format(a), np.sum((y_train - y_h_ridge_train)**2))\n",
    "    print('Test Error Ridge Model with alpha: {}'.format(a), np.sum((y_test - y_h_ridge_test)**2))\n",
    "    print('\\n')\n",
    "    \n",
    "        "
   ]
  },
  {
   "cell_type": "code",
   "execution_count": 92,
   "metadata": {},
   "outputs": [],
   "source": [
    "# #testing alphas on lasso\n",
    "\n",
    "# for a in alpha_list:\n",
    "#     lasso = Lasso(alpha=a)\n",
    "#     lasso.fit(X_train_transformed, y_train)\n",
    "    \n",
    "#     # Generate preditions for training and test sets\n",
    "#     y_h_lasso_train = lasso.predict(X_train_transformed)\n",
    "#     y_h_lasso_test = lasso.predict(X_test_transformed)\n",
    "\n",
    "    \n",
    "#     print('Train Error Lasso Model with alpha: {}'.format(a), np.sum((y_train - y_h_lasso_train)**2))\n",
    "#     print('Test Error Lasso Model with alpha: {}'.format(a), np.sum((y_test - y_h_lasso_test)**2))\n",
    "#     print('\\n')\n",
    "    \n",
    "        "
   ]
  },
  {
   "cell_type": "code",
   "execution_count": 73,
   "metadata": {},
   "outputs": [],
   "source": [
    "from sklearn.preprocessing import PolynomialFeatures"
   ]
  },
  {
   "cell_type": "code",
   "execution_count": 74,
   "metadata": {},
   "outputs": [
    {
     "data": {
      "text/plain": [
       "array([[-0.41711912, -1.84123644, -0.24216056, ...,  0.70646766,\n",
       "        -0.62052937,  0.54504505],\n",
       "       [ 0.24891891, -0.02593291,  1.27263102, ...,  1.41549296,\n",
       "        -1.61152727,  1.83471074],\n",
       "       [-0.16448401, -0.67137416, -0.87332372, ...,  0.70646766,\n",
       "        -0.62052937,  0.54504505],\n",
       "       ...,\n",
       "       [-2.71380198, -0.38899361, -1.16786653, ...,  1.41549296,\n",
       "         0.87835495,  0.54504505],\n",
       "       [ 0.01925062, -0.42933369,  0.09445979, ...,  1.41549296,\n",
       "        -1.61152727,  1.83471074],\n",
       "       [-0.71568789,  0.82120874, -0.2842381 , ...,  0.70646766,\n",
       "        -0.62052937,  0.54504505]])"
      ]
     },
     "execution_count": 74,
     "metadata": {},
     "output_type": "execute_result"
    }
   ],
   "source": [
    "#test polynomial features\n",
    "\n",
    "poly = PolynomialFeatures(interaction_only=False,include_bias = False)\n",
    "poly.fit_transform(X_train_transformed)"
   ]
  },
  {
   "cell_type": "code",
   "execution_count": 75,
   "metadata": {},
   "outputs": [
    {
     "data": {
      "text/plain": [
       "LinearRegression(copy_X=True, fit_intercept=True, n_jobs=None, normalize=False)"
      ]
     },
     "execution_count": 75,
     "metadata": {},
     "output_type": "execute_result"
    }
   ],
   "source": [
    "\n",
    "clf = linear_model.LinearRegression()\n",
    "clf.fit(X_train_transformed, y_train)"
   ]
  },
  {
   "cell_type": "code",
   "execution_count": 76,
   "metadata": {},
   "outputs": [],
   "source": [
    "poly_predictions = clf.predict(X_test_transformed)"
   ]
  },
  {
   "cell_type": "code",
   "execution_count": 77,
   "metadata": {},
   "outputs": [
    {
     "name": "stdout",
     "output_type": "stream",
     "text": [
      "0.6890108698464478\n"
     ]
    }
   ],
   "source": [
    "print(np.sqrt(metrics.mean_squared_error(y_test, poly_predictions))/y_test.std())"
   ]
  },
  {
   "cell_type": "code",
   "execution_count": null,
   "metadata": {},
   "outputs": [],
   "source": []
  },
  {
   "cell_type": "code",
   "execution_count": 78,
   "metadata": {},
   "outputs": [
    {
     "name": "stdout",
     "output_type": "stream",
     "text": [
      "144     0.176202\n",
      "119   -13.752907\n",
      "47      0.374618\n",
      "133    -5.547582\n",
      "192   -16.391426\n",
      "         ...    \n",
      "157    -6.671928\n",
      "171    -0.686641\n",
      "198     9.038365\n",
      "50      4.035007\n",
      "168     2.643126\n",
      "Name: HR_per_PA, Length: 172, dtype: float64\n"
     ]
    }
   ],
   "source": [
    "print(poly_predictions*500-y_test*500)"
   ]
  },
  {
   "cell_type": "code",
   "execution_count": 79,
   "metadata": {},
   "outputs": [
    {
     "data": {
      "text/plain": [
       "Ridge(alpha=0.95, copy_X=True, fit_intercept=True, max_iter=None,\n",
       "      normalize=False, random_state=None, solver='auto', tol=0.001)"
      ]
     },
     "execution_count": 79,
     "metadata": {},
     "output_type": "execute_result"
    }
   ],
   "source": [
    "ridge_poly = Ridge(alpha=.95)\n",
    "\n",
    "ridge_poly.fit(X_train_transformed, y_train)"
   ]
  },
  {
   "cell_type": "code",
   "execution_count": 80,
   "metadata": {},
   "outputs": [],
   "source": [
    "poly_ridge_pred = ridge_poly.predict(X_test_transformed)"
   ]
  },
  {
   "cell_type": "code",
   "execution_count": 81,
   "metadata": {},
   "outputs": [
    {
     "name": "stdout",
     "output_type": "stream",
     "text": [
      "0.6890769246222196\n"
     ]
    }
   ],
   "source": [
    "print(np.sqrt(metrics.mean_squared_error(y_test, poly_ridge_pred))/y_test.std())"
   ]
  },
  {
   "cell_type": "code",
   "execution_count": 82,
   "metadata": {},
   "outputs": [
    {
     "name": "stdout",
     "output_type": "stream",
     "text": [
      "Train Error Poly Ridge Model with alpha: 0.01 0.08386533368251695\n",
      "Test Error Poly Ridge Model with alpha: 0.01 0.021729149215326662\n",
      "\n",
      "\n",
      "Train Error Poly Ridge Model with alpha: 0.06210526315789474 0.08386533594762163\n",
      "Test Error Poly Ridge Model with alpha: 0.06210526315789474 0.021729372792714335\n",
      "\n",
      "\n",
      "Train Error Poly Ridge Model with alpha: 0.11421052631578947 0.08386534147820385\n",
      "Test Error Poly Ridge Model with alpha: 0.11421052631578947 0.02172959696795794\n",
      "\n",
      "\n",
      "Train Error Poly Ridge Model with alpha: 0.16631578947368422 0.0838653502638885\n",
      "Test Error Poly Ridge Model with alpha: 0.16631578947368422 0.021729821739000704\n",
      "\n",
      "\n",
      "Train Error Poly Ridge Model with alpha: 0.21842105263157896 0.08386536229433872\n",
      "Test Error Poly Ridge Model with alpha: 0.21842105263157896 0.021730047103793428\n",
      "\n",
      "\n",
      "Train Error Poly Ridge Model with alpha: 0.2705263157894737 0.08386537755925591\n",
      "Test Error Poly Ridge Model with alpha: 0.2705263157894737 0.021730273060294465\n",
      "\n",
      "\n",
      "Train Error Poly Ridge Model with alpha: 0.32263157894736844 0.08386539604837936\n",
      "Test Error Poly Ridge Model with alpha: 0.32263157894736844 0.021730499606469736\n",
      "\n",
      "\n",
      "Train Error Poly Ridge Model with alpha: 0.37473684210526315 0.08386541775148623\n",
      "Test Error Poly Ridge Model with alpha: 0.37473684210526315 0.02173072674029264\n",
      "\n",
      "\n",
      "Train Error Poly Ridge Model with alpha: 0.4268421052631579 0.08386544265839124\n",
      "Test Error Poly Ridge Model with alpha: 0.4268421052631579 0.021730954459744017\n",
      "\n",
      "\n",
      "Train Error Poly Ridge Model with alpha: 0.4789473684210527 0.08386547075894667\n",
      "Test Error Poly Ridge Model with alpha: 0.4789473684210527 0.02173118276281217\n",
      "\n",
      "\n",
      "Train Error Poly Ridge Model with alpha: 0.5310526315789474 0.083865502043042\n",
      "Test Error Poly Ridge Model with alpha: 0.5310526315789474 0.021731411647492795\n",
      "\n",
      "\n",
      "Train Error Poly Ridge Model with alpha: 0.5831578947368421 0.08386553650060391\n",
      "Test Error Poly Ridge Model with alpha: 0.5831578947368421 0.021731641111788956\n",
      "\n",
      "\n",
      "Train Error Poly Ridge Model with alpha: 0.6352631578947369 0.08386557412159605\n",
      "Test Error Poly Ridge Model with alpha: 0.6352631578947369 0.02173187115371105\n",
      "\n",
      "\n",
      "Train Error Poly Ridge Model with alpha: 0.6873684210526316 0.08386561489601885\n",
      "Test Error Poly Ridge Model with alpha: 0.6873684210526316 0.021732101771276786\n",
      "\n",
      "\n",
      "Train Error Poly Ridge Model with alpha: 0.7394736842105263 0.0838656588139094\n",
      "Test Error Poly Ridge Model with alpha: 0.7394736842105263 0.021732332962511137\n",
      "\n",
      "\n",
      "Train Error Poly Ridge Model with alpha: 0.791578947368421 0.08386570586534123\n",
      "Test Error Poly Ridge Model with alpha: 0.791578947368421 0.021732564725446324\n",
      "\n",
      "\n",
      "Train Error Poly Ridge Model with alpha: 0.8436842105263158 0.08386575604042423\n",
      "Test Error Poly Ridge Model with alpha: 0.8436842105263158 0.02173279705812178\n",
      "\n",
      "\n",
      "Train Error Poly Ridge Model with alpha: 0.8957894736842106 0.08386580932930444\n",
      "Test Error Poly Ridge Model with alpha: 0.8957894736842106 0.021733029958584116\n",
      "\n",
      "\n",
      "Train Error Poly Ridge Model with alpha: 0.9478947368421053 0.08386586572216387\n",
      "Test Error Poly Ridge Model with alpha: 0.9478947368421053 0.0217332634248871\n",
      "\n",
      "\n",
      "Train Error Poly Ridge Model with alpha: 1.0 0.08386592520922041\n",
      "Test Error Poly Ridge Model with alpha: 1.0 0.0217334974550916\n",
      "\n",
      "\n"
     ]
    }
   ],
   "source": [
    "for a in alpha_list:\n",
    "    ridge_poly = Ridge(alpha=a)\n",
    "    ridge_poly.fit(X_train_transformed, y_train)\n",
    "    \n",
    "    # Generate preditions for training and test sets\n",
    "    y_h_poly_ridge_train = ridge_poly.predict(X_train_transformed)\n",
    "    y_h_poly_ridge_test = ridge_poly.predict(X_test_transformed)\n",
    "\n",
    "    \n",
    "    print('Train Error Poly Ridge Model with alpha: {}'.format(a), np.sum((y_train - y_h_poly_ridge_train)**2))\n",
    "    print('Test Error Poly Ridge Model with alpha: {}'.format(a), np.sum((y_test - y_h_poly_ridge_test)**2))\n",
    "    print('\\n')"
   ]
  },
  {
   "cell_type": "code",
   "execution_count": 83,
   "metadata": {},
   "outputs": [
    {
     "data": {
      "text/plain": [
       "Ridge(alpha=0.01, copy_X=True, fit_intercept=True, max_iter=None,\n",
       "      normalize=False, random_state=None, solver='auto', tol=0.001)"
      ]
     },
     "execution_count": 83,
     "metadata": {},
     "output_type": "execute_result"
    }
   ],
   "source": [
    "ridge_poly_1 = Ridge(alpha=0.01)\n",
    "\n",
    "ridge_poly_1.fit(X_train_transformed, y_train)"
   ]
  },
  {
   "cell_type": "code",
   "execution_count": 84,
   "metadata": {},
   "outputs": [],
   "source": [
    "poly_ridge_1_pred = ridge_poly_1.predict(X_test_transformed)"
   ]
  },
  {
   "cell_type": "code",
   "execution_count": 85,
   "metadata": {},
   "outputs": [
    {
     "name": "stdout",
     "output_type": "stream",
     "text": [
      "0.6890115490592765\n"
     ]
    }
   ],
   "source": [
    "print(np.sqrt(metrics.mean_squared_error(y_test, poly_ridge_1_pred))/y_test.std())"
   ]
  },
  {
   "cell_type": "markdown",
   "metadata": {},
   "source": [
    "### Recursive Feature Elimination"
   ]
  },
  {
   "cell_type": "code",
   "execution_count": 86,
   "metadata": {},
   "outputs": [],
   "source": [
    "\n",
    "\n",
    "from sklearn.feature_selection import RFECV\n",
    "\n",
    "ols = linear_model.LinearRegression()"
   ]
  },
  {
   "cell_type": "code",
   "execution_count": 87,
   "metadata": {},
   "outputs": [
    {
     "data": {
      "text/plain": [
       "RFECV(cv=5,\n",
       "      estimator=LinearRegression(copy_X=True, fit_intercept=True, n_jobs=None,\n",
       "                                 normalize=False),\n",
       "      min_features_to_select=1, n_jobs=None, scoring='neg_mean_squared_error',\n",
       "      step=1, verbose=0)"
      ]
     },
     "execution_count": 87,
     "metadata": {},
     "output_type": "execute_result"
    }
   ],
   "source": [
    "# Create recursive feature eliminator that scores features by mean squared errors\n",
    "selector = RFECV(estimator=ols, step=1, cv=5, scoring='neg_mean_squared_error')\n",
    "\n",
    "# Fit recursive feature eliminator \n",
    "selector.fit(X_train_transformed, y_train)"
   ]
  },
  {
   "cell_type": "code",
   "execution_count": 88,
   "metadata": {},
   "outputs": [],
   "source": [
    "selected_columns = X_train.columns[selector.support_]\n",
    "removed_columns = X_train.columns[~selector.support_]\n"
   ]
  },
  {
   "cell_type": "code",
   "execution_count": 89,
   "metadata": {},
   "outputs": [],
   "source": [
    "lm69 = linear_model.LinearRegression()\n",
    "lm69.fit(X_train_transformed, y_train)\n",
    "y_train_pred = lm69.predict(X_train_transformed)\n",
    "y_test_pred = lm69.predict(X_test_transformed)"
   ]
  },
  {
   "cell_type": "code",
   "execution_count": 90,
   "metadata": {},
   "outputs": [
    {
     "name": "stdout",
     "output_type": "stream",
     "text": [
      "0.6890108698464478\n"
     ]
    }
   ],
   "source": [
    "print(np.sqrt(metrics.mean_squared_error(y_test, y_test_pred))/y_test.std())\n"
   ]
  },
  {
   "cell_type": "code",
   "execution_count": null,
   "metadata": {},
   "outputs": [],
   "source": []
  },
  {
   "cell_type": "code",
   "execution_count": null,
   "metadata": {},
   "outputs": [],
   "source": []
  },
  {
   "cell_type": "code",
   "execution_count": null,
   "metadata": {},
   "outputs": [],
   "source": []
  },
  {
   "cell_type": "code",
   "execution_count": null,
   "metadata": {},
   "outputs": [],
   "source": []
  },
  {
   "cell_type": "code",
   "execution_count": null,
   "metadata": {},
   "outputs": [],
   "source": []
  }
 ],
 "metadata": {
  "kernelspec": {
   "display_name": "Python 3",
   "language": "python",
   "name": "python3"
  },
  "language_info": {
   "codemirror_mode": {
    "name": "ipython",
    "version": 3
   },
   "file_extension": ".py",
   "mimetype": "text/x-python",
   "name": "python",
   "nbconvert_exporter": "python",
   "pygments_lexer": "ipython3",
   "version": "3.7.4"
  }
 },
 "nbformat": 4,
 "nbformat_minor": 2
}
