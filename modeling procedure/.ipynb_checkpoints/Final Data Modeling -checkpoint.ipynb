{
 "cells": [
  {
   "cell_type": "code",
   "execution_count": 43,
   "metadata": {},
   "outputs": [],
   "source": [
    "import pandas as pd\n",
    "import matplotlib.pyplot as plt\n",
    "import seaborn as sns\n",
    "import numpy as np\n",
    "# to divide train and test set\n",
    "from sklearn.model_selection import train_test_split\n",
    "from sklearn import linear_model\n",
    "from sklearn import metrics\n",
    "\n",
    "\n",
    "\n",
    "# feature scaling\n",
    "from sklearn.preprocessing import MinMaxScaler\n",
    "\n",
    "from sklearn.linear_model import LinearRegression\n",
    "from sklearn.preprocessing import MinMaxScaler\n",
    "from sklearn.preprocessing import StandardScaler\n",
    "from sklearn.linear_model import Lasso, Ridge, LinearRegression\n",
    "from sklearn.model_selection import train_test_split\n"
   ]
  },
  {
   "cell_type": "code",
   "execution_count": 2,
   "metadata": {},
   "outputs": [],
   "source": [
    "df = pd.read_csv('/Users/flatironschool/Documents/nyc-ds-010620/Projects/baseball_HR_linear_regression/Loading_Dataset/cleaned_data.csv', index_col=0)"
   ]
  },
  {
   "cell_type": "code",
   "execution_count": 3,
   "metadata": {},
   "outputs": [
    {
     "data": {
      "text/plain": [
       "Index(['avg_hit_angle', 'avg_hit_speed', 'fbld', 'avg_hr_distance',\n",
       "       'ev95percent', 'brl_pa', 'ba', 'est_ba', 'slg', 'est_slg', 'woba',\n",
       "       'est_woba', 'Age', 'HR', 'OBP', 'OPS', 'HR_per_PA', 'RBI_per_PA',\n",
       "       'SO_per_PA', 'SH_per_PA', 'SF_per_PA', 'IBB_per_PA', 'CHR_per_PA',\n",
       "       'AS__2', 'AS__3', 'Tm__ATL', 'Tm__BAL', 'Tm__BOS', 'Tm__CHC', 'Tm__CHW',\n",
       "       'Tm__CIN', 'Tm__CLE', 'Tm__COL', 'Tm__DET', 'Tm__HOU', 'Tm__KCR',\n",
       "       'Tm__LAA', 'Tm__LAD', 'Tm__MIA', 'Tm__MIL', 'Tm__MIN', 'Tm__NYM',\n",
       "       'Tm__NYY', 'Tm__OAK', 'Tm__PHI', 'Tm__PIT', 'Tm__SDP', 'Tm__SEA',\n",
       "       'Tm__SFG', 'Tm__STL', 'Tm__TBR', 'Tm__TEX', 'Tm__TOR', 'Tm__TOT',\n",
       "       'Tm__WSN'],\n",
       "      dtype='object')"
      ]
     },
     "execution_count": 3,
     "metadata": {},
     "output_type": "execute_result"
    }
   ],
   "source": [
    "df.columns"
   ]
  },
  {
   "cell_type": "code",
   "execution_count": 5,
   "metadata": {},
   "outputs": [],
   "source": [
    "X = df[['avg_hit_angle', 'avg_hit_speed', 'brl_pa', 'est_slg', \n",
    "                                                        'Age', 'AS__2', 'AS__3']]\n",
    "Y = Y = df.HR_per_PA"
   ]
  },
  {
   "cell_type": "code",
   "execution_count": 6,
   "metadata": {},
   "outputs": [
    {
     "data": {
      "text/plain": [
       "((686, 7), (172, 7))"
      ]
     },
     "execution_count": 6,
     "metadata": {},
     "output_type": "execute_result"
    }
   ],
   "source": [
    "# Let's separate into train and test set\n",
    "# Remember to set the seed (random_state for this sklearn function)\n",
    "X_train, X_test, y_train, y_test = train_test_split(df[['avg_hit_angle', 'avg_hit_speed', 'brl_pa', 'est_slg', \n",
    "                                                        'Age', 'AS__2', 'AS__3']], Y,\n",
    "                                                    test_size=0.2,\n",
    "                                                    random_state=0) # we are setting the seed here\n",
    "X_train.shape, X_test.shape"
   ]
  },
  {
   "cell_type": "code",
   "execution_count": 7,
   "metadata": {},
   "outputs": [],
   "source": [
    "#Scaling our X training and test sets\n",
    "\n",
    "scale = StandardScaler()\n",
    "X_train_transformed = scale.fit_transform(X_train)\n",
    "X_test_transformed = scale.transform(X_test)"
   ]
  },
  {
   "cell_type": "code",
   "execution_count": 27,
   "metadata": {},
   "outputs": [],
   "source": [
    "#Create a list of alpha variables\n",
    "\n",
    "alpha_list = np.linspace(0, 1 , 20)"
   ]
  },
  {
   "cell_type": "code",
   "execution_count": 32,
   "metadata": {},
   "outputs": [],
   "source": [
    "#create a function that returns the alpha with the smallest sum mean squared\n",
    "\n",
    "def best_alpha_variable(X_train_transformed, y_train, alpha_list):\n",
    "    \n",
    "    sum_mean_squared_min = 1000000000\n",
    "    min_a = 0\n",
    "    for a in alpha_list:\n",
    "        ridge = Ridge(alpha=a)\n",
    "        ridge.fit(X_train_transformed, y_train)\n",
    "\n",
    "        # Generate preditions for training and test sets\n",
    "        y_h_ridge_train = ridge.predict(X_train_transformed)\n",
    "        y_h_ridge_test = ridge.predict(X_test_transformed)\n",
    "        \n",
    "        sum_mean_squared = np.sum((y_test - y_h_ridge_test)**2)\n",
    "        \n",
    "        if sum_mean_squared < sum_mean_squared_min:\n",
    "            sum_mean_squared_min = sum_mean_squared\n",
    "            min_a = a\n",
    "    \n",
    "        \n",
    "    return min_a , sum_mean_squared_min\n",
    "\n",
    "\n",
    "#         print('Train Error Ridge Model with alpha: {}'.format(a), np.sum((y_train - y_h_ridge_train)**2))\n",
    "#         print('Test Error Ridge Model with alpha: {}'.format(a), np.sum((y_test - y_h_ridge_test)**2))\n",
    "#         print('\\n')\n",
    "    "
   ]
  },
  {
   "cell_type": "code",
   "execution_count": 33,
   "metadata": {},
   "outputs": [
    {
     "data": {
      "text/plain": [
       "(0.0, 0.021729106375087903)"
      ]
     },
     "execution_count": 33,
     "metadata": {},
     "output_type": "execute_result"
    }
   ],
   "source": [
    "best_alpha_variable(X_train_transformed, y_train, alpha_list)"
   ]
  },
  {
   "cell_type": "code",
   "execution_count": null,
   "metadata": {},
   "outputs": [],
   "source": []
  },
  {
   "cell_type": "code",
   "execution_count": 36,
   "metadata": {},
   "outputs": [
    {
     "name": "stderr",
     "output_type": "stream",
     "text": [
      "/Users/flatironschool/opt/anaconda3/lib/python3.7/site-packages/ipykernel_launcher.py:9: UserWarning: With alpha=0, this algorithm does not converge well. You are advised to use the LinearRegression estimator\n",
      "  if __name__ == '__main__':\n",
      "/Users/flatironschool/opt/anaconda3/lib/python3.7/site-packages/sklearn/linear_model/coordinate_descent.py:475: UserWarning: Coordinate descent with no regularization may lead to unexpected results and is discouraged.\n",
      "  positive)\n",
      "/Users/flatironschool/opt/anaconda3/lib/python3.7/site-packages/sklearn/linear_model/coordinate_descent.py:475: ConvergenceWarning: Objective did not converge. You might want to increase the number of iterations. Duality gap: 0.04193266681108096, tolerance: 1.6860654108573527e-05\n",
      "  positive)\n"
     ]
    },
    {
     "data": {
      "text/plain": [
       "(0.0, 0.021729106375087896)"
      ]
     },
     "execution_count": 36,
     "metadata": {},
     "output_type": "execute_result"
    }
   ],
   "source": [
    "\n",
    "\n",
    "#testing alphas on lasso\n",
    "\n",
    "def best_alpha_variable(X_train_transformed, y_train, alpha_list):\n",
    "    sum_mean_squared_min = 1000000000\n",
    "    min_a = 0\n",
    "    \n",
    "    for a in alpha_list:\n",
    "        lasso = Lasso(alpha=a)\n",
    "        lasso.fit(X_train_transformed, y_train)\n",
    "\n",
    "        # Generate preditions for training and test sets\n",
    "        y_h_lasso_train = lasso.predict(X_train_transformed)\n",
    "        y_h_lasso_test = lasso.predict(X_test_transformed)\n",
    "        \n",
    "        sum_mean_squared = np.sum((y_test - y_h_lasso_test)**2)\n",
    "        \n",
    "        if sum_mean_squared < sum_mean_squared_min:\n",
    "            sum_mean_squared_min = sum_mean_squared\n",
    "            min_a = a\n",
    "    \n",
    "        \n",
    "    return min_a , sum_mean_squared_min\n",
    "\n",
    "\n",
    "#         print('Train Error Lasso Model with alpha: {}'.format(a), np.sum((y_train - y_h_lasso_train)**2))\n",
    "#         print('Test Error Lasso Model with alpha: {}'.format(a), np.sum((y_test - y_h_lasso_test)**2))\n",
    "#         print('\\n')\n",
    "    \n",
    "best_alpha_variable(X_train_transformed, y_train, alpha_list)"
   ]
  },
  {
   "cell_type": "code",
   "execution_count": null,
   "metadata": {},
   "outputs": [],
   "source": [
    "#An alpha of 0 resulted in the smallest mean squared errors, \n",
    "#so we decided to use a basic linear regression model as our final model"
   ]
  },
  {
   "cell_type": "code",
   "execution_count": 59,
   "metadata": {},
   "outputs": [],
   "source": [
    "lin = LinearRegression()\n",
    "lin.fit(X_train_transformed, y_train)\n",
    "\n",
    "y_lin_predictions = lin.predict(X_test_transformed)"
   ]
  },
  {
   "cell_type": "code",
   "execution_count": 60,
   "metadata": {},
   "outputs": [
    {
     "name": "stdout",
     "output_type": "stream",
     "text": [
      "0.6890108698464478\n"
     ]
    }
   ],
   "source": [
    "print(np.sqrt(metrics.mean_squared_error(y_test, y_lin_predictions))/y_test.std())\n"
   ]
  },
  {
   "cell_type": "markdown",
   "metadata": {},
   "source": [
    "## Polynomial Features"
   ]
  },
  {
   "cell_type": "code",
   "execution_count": 61,
   "metadata": {},
   "outputs": [],
   "source": [
    "from sklearn.preprocessing import PolynomialFeatures"
   ]
  },
  {
   "cell_type": "code",
   "execution_count": 66,
   "metadata": {},
   "outputs": [
    {
     "data": {
      "text/plain": [
       "array([[-0.41711912, -1.84123644, -0.24216056, ..., -0.05987981,\n",
       "         0.05259573, -0.62052937],\n",
       "       [ 0.24891891, -0.02593291,  1.27263102, ...,  2.00162703,\n",
       "        -2.27883616, -1.61152727],\n",
       "       [-0.16448401, -0.67137416, -0.87332372, ...,  0.61722267,\n",
       "        -0.54214059, -0.62052937],\n",
       "       ...,\n",
       "       [-2.71380198, -0.38899361, -1.16786653, ..., -0.87367434,\n",
       "        -0.54214059,  0.87835495],\n",
       "       [ 0.01925062, -0.42933369,  0.09445979, ..., -1.5126302 ,\n",
       "         1.72211723, -1.61152727],\n",
       "       [-0.71568789,  0.82120874, -0.2842381 , ..., -0.73698229,\n",
       "         0.64733204, -0.62052937]])"
      ]
     },
     "execution_count": 66,
     "metadata": {},
     "output_type": "execute_result"
    }
   ],
   "source": [
    "#test polynomial features\n",
    "\n",
    "poly = PolynomialFeatures(interaction_only=True,include_bias = False)\n",
    "poly.fit_transform(X_train_transformed)"
   ]
  },
  {
   "cell_type": "code",
   "execution_count": 70,
   "metadata": {},
   "outputs": [
    {
     "data": {
      "text/plain": [
       "LinearRegression(copy_X=True, fit_intercept=True, n_jobs=None, normalize=False)"
      ]
     },
     "execution_count": 70,
     "metadata": {},
     "output_type": "execute_result"
    }
   ],
   "source": [
    "\n",
    "poly_lr_model = linear_model.LinearRegression()\n",
    "poly_lr_model.fit(X_train_transformed, y_train)"
   ]
  },
  {
   "cell_type": "code",
   "execution_count": 71,
   "metadata": {},
   "outputs": [],
   "source": [
    "poly_predictions = poly_lr_model.predict(X_test_transformed)"
   ]
  },
  {
   "cell_type": "code",
   "execution_count": 72,
   "metadata": {},
   "outputs": [
    {
     "name": "stdout",
     "output_type": "stream",
     "text": [
      "0.6890108698464478\n"
     ]
    }
   ],
   "source": [
    "\n",
    "\n",
    "print(np.sqrt(metrics.mean_squared_error(y_test, poly_predictions))/y_test.std())"
   ]
  },
  {
   "cell_type": "markdown",
   "metadata": {},
   "source": []
  },
  {
   "cell_type": "code",
   "execution_count": 45,
   "metadata": {},
   "outputs": [],
   "source": []
  },
  {
   "cell_type": "code",
   "execution_count": 49,
   "metadata": {},
   "outputs": [],
   "source": []
  },
  {
   "cell_type": "code",
   "execution_count": null,
   "metadata": {},
   "outputs": [],
   "source": []
  },
  {
   "cell_type": "code",
   "execution_count": null,
   "metadata": {},
   "outputs": [],
   "source": []
  },
  {
   "cell_type": "code",
   "execution_count": null,
   "metadata": {},
   "outputs": [],
   "source": []
  }
 ],
 "metadata": {
  "kernelspec": {
   "display_name": "Python 3",
   "language": "python",
   "name": "python3"
  },
  "language_info": {
   "codemirror_mode": {
    "name": "ipython",
    "version": 3
   },
   "file_extension": ".py",
   "mimetype": "text/x-python",
   "name": "python",
   "nbconvert_exporter": "python",
   "pygments_lexer": "ipython3",
   "version": "3.7.4"
  }
 },
 "nbformat": 4,
 "nbformat_minor": 2
}
